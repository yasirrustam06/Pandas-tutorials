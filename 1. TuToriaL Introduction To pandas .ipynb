{
 "cells": [
  {
   "cell_type": "markdown",
   "id": "f7069928",
   "metadata": {},
   "source": [
    "# What is pandas  ?"
   ]
  },
  {
   "cell_type": "markdown",
   "id": "15713f78",
   "metadata": {},
   "source": [
    "`-->>` `Pandas` is a Python library used for working with data sets.\n",
    "\n",
    "`-->>`  It has functions for analyzing, cleaning, exploring, and manipulating data.\n",
    "\n",
    "`-->>`  The name \"Pandas\" has a reference to both \"Panel Data\", and \"`Python Data Analysis`\" and was created by `Wes McKinney` in 2008."
   ]
  },
  {
   "cell_type": "markdown",
   "id": "fbde9415",
   "metadata": {},
   "source": [
    "# Why Use Pandas?\n"
   ]
  },
  {
   "cell_type": "markdown",
   "id": "c1990dec",
   "metadata": {},
   "source": [
    "`-->>` Pandas allows us to analyze big data and make conclusions based on statistical theories.\n",
    "\n",
    "`-->` Pandas can clean messy data sets, and make them readable and relevant.\n",
    "\n",
    "`-->>` Relevant data is very important in data science."
   ]
  },
  {
   "cell_type": "code",
   "execution_count": null,
   "id": "be5fbe89",
   "metadata": {},
   "outputs": [],
   "source": []
  },
  {
   "cell_type": "markdown",
   "id": "6de8caa0",
   "metadata": {},
   "source": [
    "What Can` Pandas Do`?\n",
    "Pandas gives you answers about the data. Like:\n",
    "\n",
    "Is there a correlation between two or more columns?.\n",
    "`{:` What is average value?.\n",
    "`{:` Max value?.\n",
    "`{:` Min value?.\n",
    "`{:` Pandas are also able to delete rows that are not relevant, or contains wrong values, like empty or NULL values. This is called cleaning the data."
   ]
  },
  {
   "cell_type": "code",
   "execution_count": null,
   "id": "d0ab1bd0",
   "metadata": {},
   "outputs": [],
   "source": []
  },
  {
   "cell_type": "markdown",
   "id": "a7b0a2df",
   "metadata": {},
   "source": [
    "# ` Installation Of pandas...`"
   ]
  },
  {
   "cell_type": "code",
   "execution_count": 1,
   "id": "0b8e395d",
   "metadata": {},
   "outputs": [
    {
     "name": "stdout",
     "output_type": "stream",
     "text": [
      "Requirement already satisfied: pandas in c:\\users\\yasir\\.conda\\envs\\deeplearning\\lib\\site-packages (1.4.2)\n",
      "Requirement already satisfied: python-dateutil>=2.8.1 in c:\\users\\yasir\\.conda\\envs\\deeplearning\\lib\\site-packages (from pandas) (2.8.2)\n",
      "Requirement already satisfied: pytz>=2020.1 in c:\\users\\yasir\\.conda\\envs\\deeplearning\\lib\\site-packages (from pandas) (2022.1)\n",
      "Requirement already satisfied: numpy>=1.18.5 in c:\\users\\yasir\\.conda\\envs\\deeplearning\\lib\\site-packages (from pandas) (1.22.3)\n",
      "Requirement already satisfied: six>=1.5 in c:\\users\\yasir\\.conda\\envs\\deeplearning\\lib\\site-packages (from python-dateutil>=2.8.1->pandas) (1.16.0)\n"
     ]
    }
   ],
   "source": [
    "!pip install pandas"
   ]
  },
  {
   "cell_type": "markdown",
   "id": "5260bdb8",
   "metadata": {},
   "source": [
    "#### Importing and chaecking if it installed or not ?"
   ]
  },
  {
   "cell_type": "code",
   "execution_count": 2,
   "id": "bd949be6",
   "metadata": {},
   "outputs": [],
   "source": [
    "import pandas as pd"
   ]
  },
  {
   "cell_type": "markdown",
   "id": "ca105db2",
   "metadata": {},
   "source": [
    "#### To print the installed vesion pandas"
   ]
  },
  {
   "cell_type": "code",
   "execution_count": 4,
   "id": "0f4b32c7",
   "metadata": {},
   "outputs": [
    {
     "name": "stdout",
     "output_type": "stream",
     "text": [
      "pandas version : 1.4.2\n"
     ]
    }
   ],
   "source": [
    "version = pd.__version__\n",
    "print(\"pandas version :\" , version)"
   ]
  },
  {
   "cell_type": "code",
   "execution_count": 16,
   "id": "49ccd3e3",
   "metadata": {},
   "outputs": [
    {
     "data": {
      "text/html": [
       "<div>\n",
       "<style scoped>\n",
       "    .dataframe tbody tr th:only-of-type {\n",
       "        vertical-align: middle;\n",
       "    }\n",
       "\n",
       "    .dataframe tbody tr th {\n",
       "        vertical-align: top;\n",
       "    }\n",
       "\n",
       "    .dataframe thead th {\n",
       "        text-align: right;\n",
       "    }\n",
       "</style>\n",
       "<table border=\"1\" class=\"dataframe\">\n",
       "  <thead>\n",
       "    <tr style=\"text-align: right;\">\n",
       "      <th></th>\n",
       "      <th>Name</th>\n",
       "      <th>Age</th>\n",
       "      <th>Department</th>\n",
       "      <th>1stSmstr_GPA</th>\n",
       "      <th>RollNUmber</th>\n",
       "      <th>GirlFriend</th>\n",
       "    </tr>\n",
       "  </thead>\n",
       "  <tbody>\n",
       "    <tr>\n",
       "      <th>0</th>\n",
       "      <td>Yasir</td>\n",
       "      <td>21</td>\n",
       "      <td>MTE</td>\n",
       "      <td>2.3</td>\n",
       "      <td>20mte006</td>\n",
       "      <td>NO</td>\n",
       "    </tr>\n",
       "    <tr>\n",
       "      <th>1</th>\n",
       "      <td>Jawad</td>\n",
       "      <td>23</td>\n",
       "      <td>MTE</td>\n",
       "      <td>3.5</td>\n",
       "      <td>20mte007</td>\n",
       "      <td>YES</td>\n",
       "    </tr>\n",
       "    <tr>\n",
       "      <th>2</th>\n",
       "      <td>Qadir</td>\n",
       "      <td>22</td>\n",
       "      <td>CS</td>\n",
       "      <td>4.0</td>\n",
       "      <td>20cs014</td>\n",
       "      <td>NO</td>\n",
       "    </tr>\n",
       "    <tr>\n",
       "      <th>3</th>\n",
       "      <td>Hasnani</td>\n",
       "      <td>21</td>\n",
       "      <td>ME</td>\n",
       "      <td>3.9</td>\n",
       "      <td>20ME007</td>\n",
       "      <td>BoyFriend</td>\n",
       "    </tr>\n",
       "    <tr>\n",
       "      <th>4</th>\n",
       "      <td>Adnan</td>\n",
       "      <td>24</td>\n",
       "      <td>ME</td>\n",
       "      <td>3.8</td>\n",
       "      <td>20mte003</td>\n",
       "      <td>YES</td>\n",
       "    </tr>\n",
       "  </tbody>\n",
       "</table>\n",
       "</div>"
      ],
      "text/plain": [
       "      Name  Age Department  1stSmstr_GPA RollNUmber GirlFriend\n",
       "0    Yasir   21        MTE           2.3   20mte006         NO\n",
       "1    Jawad   23        MTE           3.5   20mte007        YES\n",
       "2    Qadir   22         CS           4.0    20cs014         NO\n",
       "3  Hasnani   21         ME           3.9    20ME007  BoyFriend\n",
       "4    Adnan   24         ME           3.8   20mte003        YES"
      ]
     },
     "execution_count": 16,
     "metadata": {},
     "output_type": "execute_result"
    }
   ],
   "source": [
    "details = {\n",
    "    'Name' : ['Yasir', 'Jawad', 'Qadir', 'Hasnani',\"Adnan\"],\n",
    "    'Age' : [21, 23, 22, 21,24],\n",
    "    'Department' : ['MTE', 'MTE', 'CS', 'ME','ME'],\n",
    "    '1stSmstr_GPA':[2.3,3.5,4,3.9,3.8],\n",
    "    'RollNUmber':[\"20mte006\",\"20mte007\",'20cs014','20ME007','20mte003'],\n",
    "    'GirlFriend':[\"NO\",'YES','NO','BoyFriend','YES']\n",
    "}\n",
    "  \n",
    "# creating a Dataframe object \n",
    "df = pd.DataFrame(details)\n",
    "  \n",
    "df"
   ]
  },
  {
   "cell_type": "code",
   "execution_count": 24,
   "id": "7cd419d9",
   "metadata": {},
   "outputs": [
    {
     "name": "stdout",
     "output_type": "stream",
     "text": [
      "0      Yasir\n",
      "1      Jawad\n",
      "2      Qadir\n",
      "3    Hasnani\n",
      "4      Adnan\n",
      "Name: Name, dtype: object\n"
     ]
    }
   ],
   "source": [
    "Names = df.Name\n",
    "print(Names)"
   ]
  },
  {
   "cell_type": "code",
   "execution_count": 25,
   "id": "01f0ddf5",
   "metadata": {},
   "outputs": [
    {
     "name": "stdout",
     "output_type": "stream",
     "text": [
      "0    21\n",
      "1    23\n",
      "2    22\n",
      "3    21\n",
      "4    24\n",
      "Name: Age, dtype: int64\n"
     ]
    }
   ],
   "source": [
    "Age = df.Age\n",
    "print(Age)"
   ]
  },
  {
   "cell_type": "code",
   "execution_count": 26,
   "id": "0b67ed73",
   "metadata": {},
   "outputs": [
    {
     "name": "stdout",
     "output_type": "stream",
     "text": [
      "   Age RollNUmber\n",
      "0   21   20mte006\n",
      "1   23   20mte007\n",
      "2   22    20cs014\n",
      "3   21    20ME007\n",
      "4   24   20mte003\n"
     ]
    }
   ],
   "source": [
    "Names_And_RoolNum = df[['Age','RollNUmber']]\n",
    "print(Names_And_RoolNum)"
   ]
  },
  {
   "cell_type": "code",
   "execution_count": 28,
   "id": "379e394e",
   "metadata": {},
   "outputs": [
    {
     "name": "stdout",
     "output_type": "stream",
     "text": [
      "      Name GirlFriend\n",
      "0    Yasir         NO\n",
      "1    Jawad        YES\n",
      "2    Qadir         NO\n",
      "3  Hasnani  BoyFriend\n",
      "4    Adnan        YES\n"
     ]
    }
   ],
   "source": [
    "Names_GF = df[['Name','GirlFriend']]\n",
    "print(Names_GF)"
   ]
  },
  {
   "cell_type": "code",
   "execution_count": null,
   "id": "4565e884",
   "metadata": {},
   "outputs": [],
   "source": []
  }
 ],
 "metadata": {
  "kernelspec": {
   "display_name": "Python 3 (ipykernel)",
   "language": "python",
   "name": "python3"
  },
  "language_info": {
   "codemirror_mode": {
    "name": "ipython",
    "version": 3
   },
   "file_extension": ".py",
   "mimetype": "text/x-python",
   "name": "python",
   "nbconvert_exporter": "python",
   "pygments_lexer": "ipython3",
   "version": "3.8.13"
  }
 },
 "nbformat": 4,
 "nbformat_minor": 5
}
