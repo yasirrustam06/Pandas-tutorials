{
 "cells": [
  {
   "cell_type": "markdown",
   "id": "6d2b25c4",
   "metadata": {},
   "source": [
    "# Pandas Series\n"
   ]
  },
  {
   "cell_type": "markdown",
   "id": "2c5bc255",
   "metadata": {},
   "source": [
    "### ` What is a Series?`\n"
   ]
  },
  {
   "cell_type": "markdown",
   "id": "4a2a7f5e",
   "metadata": {},
   "source": [
    "A `Pandas Series` is like a column in a table.\n",
    "\n",
    "It is a one-dimensional array holding data of any type."
   ]
  },
  {
   "cell_type": "markdown",
   "id": "0f950ba7",
   "metadata": {},
   "source": [
    "Series is a one-dimensional labeled array capable of holding data of any type (integer, string, float, python objects, etc.). The axis labels are collectively called index."
   ]
  },
  {
   "cell_type": "markdown",
   "id": "e2478f02",
   "metadata": {},
   "source": [
    "### ` A series can be created using various inputs like −`\n",
    "\n"
   ]
  },
  {
   "cell_type": "raw",
   "id": "2b172fe3",
   "metadata": {},
   "source": [
    "Array\n",
    "1.Dict\n",
    "2.Scalar value or constant\n",
    "3.Create an Empty Series\n",
    "4.A basic series, which can be created is an Empty Series."
   ]
  },
  {
   "cell_type": "raw",
   "id": "056bba84",
   "metadata": {},
   "source": []
  },
  {
   "cell_type": "markdown",
   "id": "a9f38431",
   "metadata": {},
   "source": [
    "#### `Creating Empty Array`"
   ]
  },
  {
   "cell_type": "code",
   "execution_count": 3,
   "id": "e16efd1b",
   "metadata": {},
   "outputs": [
    {
     "name": "stdout",
     "output_type": "stream",
     "text": [
      "Empty Series: Series([], dtype: float64)\n"
     ]
    },
    {
     "name": "stderr",
     "output_type": "stream",
     "text": [
      "C:\\Users\\yasir\\AppData\\Local\\Temp\\ipykernel_15228\\2858070715.py:2: FutureWarning: The default dtype for empty Series will be 'object' instead of 'float64' in a future version. Specify a dtype explicitly to silence this warning.\n",
      "  ser = pd.Series()\n"
     ]
    }
   ],
   "source": [
    "import pandas as pd\n",
    "ser = pd.Series()\n",
    "print(\"Empty Series:\", ser)"
   ]
  },
  {
   "cell_type": "code",
   "execution_count": 4,
   "id": "6cf7d010",
   "metadata": {},
   "outputs": [
    {
     "name": "stdout",
     "output_type": "stream",
     "text": [
      "<class 'pandas.core.series.Series'>\n"
     ]
    }
   ],
   "source": [
    "print(type(ser))"
   ]
  },
  {
   "cell_type": "markdown",
   "id": "d3e5cf32",
   "metadata": {},
   "source": [
    "# `Creating Series from an ndarray`"
   ]
  },
  {
   "cell_type": "markdown",
   "id": "387a3fb8",
   "metadata": {},
   "source": [
    "# Example 1\n",
    "\n"
   ]
  },
  {
   "cell_type": "code",
   "execution_count": 11,
   "id": "49cf0f3e",
   "metadata": {},
   "outputs": [
    {
     "name": "stdout",
     "output_type": "stream",
     "text": [
      "Its output is as follows −\n",
      " \n",
      "0    1\n",
      "1    2\n",
      "2    3\n",
      "3    4\n",
      "4    5\n",
      "dtype: int32\n"
     ]
    }
   ],
   "source": [
    "import numpy as np\n",
    "arr = np.array([1,2,3,4,5])\n",
    "ser1 = pd.Series(arr)\n",
    "print(\"Its output is as follows −\")\n",
    "print(\" \")\n",
    "print(ser1)"
   ]
  },
  {
   "cell_type": "markdown",
   "id": "1d9aa52e",
   "metadata": {},
   "source": [
    "We did not pass any index, so by default, it assigned the indexes ranging from 0 to len(data)-1, i.e., 0 to 3"
   ]
  },
  {
   "cell_type": "markdown",
   "id": "f8710142",
   "metadata": {},
   "source": [
    "# Example2"
   ]
  },
  {
   "cell_type": "code",
   "execution_count": 14,
   "id": "18cc04a4",
   "metadata": {},
   "outputs": [
    {
     "name": "stdout",
     "output_type": "stream",
     "text": [
      "Its output is as follows −\n",
      "  \n",
      "a      Yasir\n",
      "b      adnan\n",
      "c      Jawad\n",
      "d    Hasnain\n",
      "e      Qadir\n",
      "dtype: object\n"
     ]
    }
   ],
   "source": [
    "data = np.array([\"Yasir\",\"adnan\",\"Jawad\",\"Hasnain\",\"Qadir\"])\n",
    "ser2 = pd.Series(data,index = ['a','b','c','d','e'])\n",
    "print(\"Its output is as follows −\")\n",
    "print(\"  \")\n",
    "print(ser2)"
   ]
  },
  {
   "cell_type": "markdown",
   "id": "854fe3b2",
   "metadata": {},
   "source": [
    "We passed the index values here. Now we can see the customized indexed values in the output."
   ]
  },
  {
   "cell_type": "code",
   "execution_count": null,
   "id": "7a48f7f4",
   "metadata": {},
   "outputs": [],
   "source": []
  },
  {
   "cell_type": "markdown",
   "id": "7823c51b",
   "metadata": {},
   "source": [
    "# `Create a Series from dict`\n"
   ]
  },
  {
   "cell_type": "markdown",
   "id": "81c7ee4f",
   "metadata": {},
   "source": [
    "# Example 1"
   ]
  },
  {
   "cell_type": "code",
   "execution_count": 17,
   "id": "a53ec445",
   "metadata": {},
   "outputs": [
    {
     "name": "stdout",
     "output_type": "stream",
     "text": [
      "Its output is as follows −\n",
      "  \n",
      "1    Yasir\n",
      "2    Qadir\n",
      "3    Jawad\n",
      "4    Adnan\n",
      "dtype: object\n"
     ]
    }
   ],
   "source": [
    "import pandas as pd\n",
    "import numpy as np\n",
    "data1 = {1:\"Yasir\",2:\"Qadir\",3:\"Jawad\",4:\"Adnan\"}\n",
    "ser2 = pd.Series(data1)\n",
    "print(\"Its output is as follows −\")\n",
    "\n",
    "print(\"  \")\n",
    "\n",
    "print(ser2)"
   ]
  },
  {
   "cell_type": "markdown",
   "id": "80bc4d79",
   "metadata": {},
   "source": [
    "Observe − Dictionary keys are used to construct index.\n",
    "\n"
   ]
  },
  {
   "cell_type": "markdown",
   "id": "ad528071",
   "metadata": {},
   "source": [
    "# Example 2"
   ]
  },
  {
   "cell_type": "code",
   "execution_count": 22,
   "id": "106354fa",
   "metadata": {},
   "outputs": [
    {
     "name": "stdout",
     "output_type": "stream",
     "text": [
      "Its output is as follows −\n",
      "  \n",
      "4    Adnan\n",
      "1    Yasir\n",
      "3    Jawad\n",
      "0      NaN\n",
      "dtype: object\n"
     ]
    }
   ],
   "source": [
    "\n",
    "data1 = {1:\"Yasir\",2:\"Qadir\",3:\"Jawad\",4:\"Adnan\"}\n",
    "\n",
    "ser3 = pd.Series(data1,index = [4,1,3,0])\n",
    "\n",
    "print(\"Its output is as follows −\")\n",
    "\n",
    "print(\"  \")\n",
    "\n",
    "print(ser3)"
   ]
  },
  {
   "cell_type": "markdown",
   "id": "e0864ef2",
   "metadata": {},
   "source": [
    "Observe − Index order is persisted and the missing element is filled with NaN (Not a Number).\n",
    "\n"
   ]
  },
  {
   "cell_type": "code",
   "execution_count": null,
   "id": "5a4c284e",
   "metadata": {},
   "outputs": [],
   "source": []
  },
  {
   "cell_type": "code",
   "execution_count": null,
   "id": "3c3ea438",
   "metadata": {},
   "outputs": [],
   "source": []
  },
  {
   "cell_type": "markdown",
   "id": "944d4bd5",
   "metadata": {},
   "source": [
    "# `Create a Series from Scalar`\n",
    "If data is a scalar value, an index must be provided. The value will be repeated to match the length of index"
   ]
  },
  {
   "cell_type": "code",
   "execution_count": 26,
   "id": "11fd9224",
   "metadata": {},
   "outputs": [
    {
     "name": "stdout",
     "output_type": "stream",
     "text": [
      "ser4 output as follows- \n",
      " \n",
      "1    5\n",
      "2    5\n",
      "3    5\n",
      "dtype: int64\n",
      " \n",
      "ser5 output as follows- \n",
      "a    5\n",
      "b    5\n",
      "c    5\n",
      "d    5\n",
      "e    5\n",
      "dtype: int64\n"
     ]
    }
   ],
   "source": [
    "import pandas  as pd\n",
    "import numpy as np\n",
    "ser4 = pd.Series(5,index =[1,2,3])\n",
    "ser5 = pd.Series(5,index =['a','b','c','d','e'])\n",
    "print(\"ser4 output as follows- \")\n",
    "print(\" \")\n",
    "print(ser4)\n",
    "\n",
    "print(\" \")\n",
    "print(\"ser5 output as follows- \")\n",
    "print(ser5)"
   ]
  },
  {
   "cell_type": "code",
   "execution_count": null,
   "id": "744ff264",
   "metadata": {},
   "outputs": [],
   "source": []
  },
  {
   "cell_type": "markdown",
   "id": "3759fd3f",
   "metadata": {},
   "source": [
    "# `Accessing Data from Series with Position`\n"
   ]
  },
  {
   "cell_type": "raw",
   "id": "dde66ea5",
   "metadata": {},
   "source": [
    "Data in the series can be accessed similar to that in an ndarray.\n",
    "\n",
    "\n",
    "Retrieve the first element. As we already know, the counting starts from zero for the array, which means the first element is stored at zeroth position and so on."
   ]
  },
  {
   "cell_type": "markdown",
   "id": "efc20815",
   "metadata": {},
   "source": [
    "# Example 1"
   ]
  },
  {
   "cell_type": "code",
   "execution_count": 28,
   "id": "09709580",
   "metadata": {},
   "outputs": [
    {
     "name": "stdout",
     "output_type": "stream",
     "text": [
      "1\n"
     ]
    }
   ],
   "source": [
    "import pandas as pd\n",
    "s = pd.Series([1,2,3,4,5],index = ['a','b','c','d','e'])\n",
    "print(s[0])"
   ]
  },
  {
   "cell_type": "code",
   "execution_count": 29,
   "id": "6118670c",
   "metadata": {},
   "outputs": [
    {
     "name": "stdout",
     "output_type": "stream",
     "text": [
      "a    1\n",
      "b    2\n",
      "c    3\n",
      "dtype: int64\n"
     ]
    }
   ],
   "source": [
    "print(s[0:3])"
   ]
  },
  {
   "cell_type": "code",
   "execution_count": 30,
   "id": "d109847a",
   "metadata": {},
   "outputs": [
    {
     "data": {
      "text/plain": [
       "1"
      ]
     },
     "execution_count": 30,
     "metadata": {},
     "output_type": "execute_result"
    }
   ],
   "source": [
    "s['a']"
   ]
  },
  {
   "cell_type": "code",
   "execution_count": 31,
   "id": "a94a3268",
   "metadata": {},
   "outputs": [
    {
     "data": {
      "text/plain": [
       "a    1\n",
       "b    2\n",
       "dtype: int64"
      ]
     },
     "execution_count": 31,
     "metadata": {},
     "output_type": "execute_result"
    }
   ],
   "source": [
    "s[['a','b']]"
   ]
  },
  {
   "cell_type": "markdown",
   "id": "6d68a50c",
   "metadata": {},
   "source": [
    "`Taking last Three Elements`"
   ]
  },
  {
   "cell_type": "code",
   "execution_count": 32,
   "id": "f4e37eee",
   "metadata": {},
   "outputs": [
    {
     "data": {
      "text/plain": [
       "c    3\n",
       "d    4\n",
       "e    5\n",
       "dtype: int64"
      ]
     },
     "execution_count": 32,
     "metadata": {},
     "output_type": "execute_result"
    }
   ],
   "source": [
    "s[-3:]"
   ]
  },
  {
   "cell_type": "markdown",
   "id": "8045d9b7",
   "metadata": {},
   "source": [
    "`Taking First Three Elements`"
   ]
  },
  {
   "cell_type": "code",
   "execution_count": 34,
   "id": "96062791",
   "metadata": {},
   "outputs": [
    {
     "data": {
      "text/plain": [
       "a    1\n",
       "b    2\n",
       "c    3\n",
       "dtype: int64"
      ]
     },
     "execution_count": 34,
     "metadata": {},
     "output_type": "execute_result"
    }
   ],
   "source": [
    "s[:3]"
   ]
  },
  {
   "cell_type": "markdown",
   "id": "12cc683d",
   "metadata": {},
   "source": [
    "`Accesing Elements using Indexs`"
   ]
  },
  {
   "cell_type": "code",
   "execution_count": 35,
   "id": "aac5e53e",
   "metadata": {},
   "outputs": [
    {
     "data": {
      "text/plain": [
       "a    1\n",
       "b    2\n",
       "c    3\n",
       "dtype: int64"
      ]
     },
     "execution_count": 35,
     "metadata": {},
     "output_type": "execute_result"
    }
   ],
   "source": [
    "s[['a','b','c']]"
   ]
  },
  {
   "cell_type": "code",
   "execution_count": 36,
   "id": "329e3bcd",
   "metadata": {},
   "outputs": [
    {
     "data": {
      "text/plain": [
       "1"
      ]
     },
     "execution_count": 36,
     "metadata": {},
     "output_type": "execute_result"
    }
   ],
   "source": [
    "s['a']"
   ]
  },
  {
   "cell_type": "code",
   "execution_count": 38,
   "id": "21fb8578",
   "metadata": {},
   "outputs": [
    {
     "data": {
      "text/plain": [
       "3"
      ]
     },
     "execution_count": 38,
     "metadata": {},
     "output_type": "execute_result"
    }
   ],
   "source": [
    "s['c']"
   ]
  },
  {
   "cell_type": "code",
   "execution_count": 40,
   "id": "0f12ef0f",
   "metadata": {},
   "outputs": [
    {
     "data": {
      "text/plain": [
       "e    5\n",
       "d    4\n",
       "dtype: int64"
      ]
     },
     "execution_count": 40,
     "metadata": {},
     "output_type": "execute_result"
    }
   ],
   "source": [
    "s[['e','d']]"
   ]
  },
  {
   "cell_type": "code",
   "execution_count": null,
   "id": "2b742e7c",
   "metadata": {},
   "outputs": [],
   "source": []
  }
 ],
 "metadata": {
  "kernelspec": {
   "display_name": "Python 3 (ipykernel)",
   "language": "python",
   "name": "python3"
  },
  "language_info": {
   "codemirror_mode": {
    "name": "ipython",
    "version": 3
   },
   "file_extension": ".py",
   "mimetype": "text/x-python",
   "name": "python",
   "nbconvert_exporter": "python",
   "pygments_lexer": "ipython3",
   "version": "3.8.13"
  }
 },
 "nbformat": 4,
 "nbformat_minor": 5
}
