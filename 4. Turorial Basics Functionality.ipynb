{
 "cells": [
  {
   "cell_type": "markdown",
   "id": "87e6d725",
   "metadata": {},
   "source": [
    "# Series Basic Functionality\n"
   ]
  },
  {
   "cell_type": "markdown",
   "id": "18b6d028",
   "metadata": {},
   "source": [
    "![title](basic.PNG)"
   ]
  },
  {
   "cell_type": "code",
   "execution_count": 4,
   "id": "66d42252",
   "metadata": {},
   "outputs": [
    {
     "name": "stdout",
     "output_type": "stream",
     "text": [
      "0   -1.049039\n",
      "1   -0.958847\n",
      "2    0.782916\n",
      "3    0.951219\n",
      "dtype: float64\n"
     ]
    }
   ],
   "source": [
    "import pandas as pd\n",
    "import numpy as np\n",
    "\n",
    "#Create a series with 100 random numbers\n",
    "s = pd.Series(np.random.randn(4))\n",
    "print(s)"
   ]
  },
  {
   "cell_type": "markdown",
   "id": "528464a9",
   "metadata": {},
   "source": [
    "# axes\n",
    "Returns the list of the labels of the series."
   ]
  },
  {
   "cell_type": "code",
   "execution_count": 5,
   "id": "70603c4a",
   "metadata": {},
   "outputs": [
    {
     "name": "stdout",
     "output_type": "stream",
     "text": [
      "[RangeIndex(start=0, stop=4, step=1)]\n"
     ]
    }
   ],
   "source": [
    "print(s.axes)"
   ]
  },
  {
   "cell_type": "markdown",
   "id": "fe0d5aaf",
   "metadata": {},
   "source": [
    "# empty\n",
    "Returns the Boolean value saying whether the Object is empty or not. True indicates that the object is empty."
   ]
  },
  {
   "cell_type": "code",
   "execution_count": 6,
   "id": "68a7d3dd",
   "metadata": {},
   "outputs": [
    {
     "name": "stdout",
     "output_type": "stream",
     "text": [
      "False\n"
     ]
    }
   ],
   "source": [
    "print(s.empty)"
   ]
  },
  {
   "cell_type": "markdown",
   "id": "23e6dc27",
   "metadata": {},
   "source": [
    "# ndim\n",
    "Returns the number of dimensions of the object. By definition, a Series is a 1D data structure, so it returns"
   ]
  },
  {
   "cell_type": "code",
   "execution_count": 10,
   "id": "6bbe1803",
   "metadata": {},
   "outputs": [
    {
     "name": "stdout",
     "output_type": "stream",
     "text": [
      "0   -1.049039\n",
      "1   -0.958847\n",
      "2    0.782916\n",
      "3    0.951219\n",
      "dtype: float64\n",
      " \n",
      "Dimensions : 1\n"
     ]
    }
   ],
   "source": [
    "print(s)\n",
    "print(\" \")\n",
    "print(\"Dimensions :\",s.ndim)"
   ]
  },
  {
   "cell_type": "markdown",
   "id": "5e6762cd",
   "metadata": {},
   "source": [
    "# size\n",
    "Returns the size(length) of the series"
   ]
  },
  {
   "cell_type": "code",
   "execution_count": 11,
   "id": "bca66578",
   "metadata": {},
   "outputs": [
    {
     "name": "stdout",
     "output_type": "stream",
     "text": [
      "4\n"
     ]
    }
   ],
   "source": [
    "print(s.size)"
   ]
  },
  {
   "cell_type": "markdown",
   "id": "55004d2f",
   "metadata": {},
   "source": [
    "# values\n",
    "Returns the actual data in the series as an array."
   ]
  },
  {
   "cell_type": "code",
   "execution_count": 12,
   "id": "38eb4dd2",
   "metadata": {},
   "outputs": [
    {
     "name": "stdout",
     "output_type": "stream",
     "text": [
      "[-1.04903904 -0.9588469   0.78291576  0.95121883]\n"
     ]
    }
   ],
   "source": [
    "print(s.values)"
   ]
  },
  {
   "cell_type": "markdown",
   "id": "812db04e",
   "metadata": {},
   "source": [
    "# Head & Tail\n",
    "To view a small sample of a Series or the DataFrame object, use the head() and the tail() methods."
   ]
  },
  {
   "cell_type": "code",
   "execution_count": 17,
   "id": "9036b0d7",
   "metadata": {},
   "outputs": [
    {
     "name": "stdout",
     "output_type": "stream",
     "text": [
      "head\n",
      "<bound method NDFrame.head of 0   -1.049039\n",
      "1   -0.958847\n",
      "2    0.782916\n",
      "3    0.951219\n",
      "dtype: float64>\n"
     ]
    }
   ],
   "source": [
    "print(\"head\")\n",
    "print(s.head)"
   ]
  },
  {
   "cell_type": "code",
   "execution_count": 18,
   "id": "ff5fd0f2",
   "metadata": {},
   "outputs": [
    {
     "name": "stdout",
     "output_type": "stream",
     "text": [
      "Tail\n",
      "<bound method NDFrame.tail of 0   -1.049039\n",
      "1   -0.958847\n",
      "2    0.782916\n",
      "3    0.951219\n",
      "dtype: float64>\n"
     ]
    }
   ],
   "source": [
    "print(\"Tail\")\n",
    "print(s.tail)"
   ]
  },
  {
   "cell_type": "markdown",
   "id": "d34a3b2f",
   "metadata": {},
   "source": [
    "# DataFrame Basic Functionality\n"
   ]
  },
  {
   "cell_type": "markdown",
   "id": "9dec9c6c",
   "metadata": {},
   "source": [
    "![title](f.PNG)"
   ]
  },
  {
   "cell_type": "code",
   "execution_count": 19,
   "id": "a82718cf",
   "metadata": {},
   "outputs": [
    {
     "name": "stdout",
     "output_type": "stream",
     "text": [
      "    Name  Age  Rating\n",
      "0    Tom   25    4.23\n",
      "1  James   26    3.24\n",
      "2  Ricky   25    3.98\n",
      "3    Vin   23    2.56\n",
      "4  Steve   30    3.20\n",
      "5  Smith   29    4.60\n",
      "6   Jack   23    3.80\n"
     ]
    }
   ],
   "source": [
    "import pandas as pd\n",
    "import numpy as np\n",
    "\n",
    "#Create a Dictionary of series\n",
    "d = {'Name':pd.Series(['Tom','James','Ricky','Vin','Steve','Smith','Jack']),\n",
    "   'Age':pd.Series([25,26,25,23,30,29,23]),\n",
    "   'Rating':pd.Series([4.23,3.24,3.98,2.56,3.20,4.6,3.8])}\n",
    "\n",
    "#Create a DataFrame\n",
    "df = pd.DataFrame(d)\n",
    "print(df)"
   ]
  },
  {
   "cell_type": "code",
   "execution_count": 20,
   "id": "7b77fb0f",
   "metadata": {},
   "outputs": [
    {
     "data": {
      "text/html": [
       "<div>\n",
       "<style scoped>\n",
       "    .dataframe tbody tr th:only-of-type {\n",
       "        vertical-align: middle;\n",
       "    }\n",
       "\n",
       "    .dataframe tbody tr th {\n",
       "        vertical-align: top;\n",
       "    }\n",
       "\n",
       "    .dataframe thead th {\n",
       "        text-align: right;\n",
       "    }\n",
       "</style>\n",
       "<table border=\"1\" class=\"dataframe\">\n",
       "  <thead>\n",
       "    <tr style=\"text-align: right;\">\n",
       "      <th></th>\n",
       "      <th>0</th>\n",
       "      <th>1</th>\n",
       "      <th>2</th>\n",
       "      <th>3</th>\n",
       "      <th>4</th>\n",
       "      <th>5</th>\n",
       "      <th>6</th>\n",
       "    </tr>\n",
       "  </thead>\n",
       "  <tbody>\n",
       "    <tr>\n",
       "      <th>Name</th>\n",
       "      <td>Tom</td>\n",
       "      <td>James</td>\n",
       "      <td>Ricky</td>\n",
       "      <td>Vin</td>\n",
       "      <td>Steve</td>\n",
       "      <td>Smith</td>\n",
       "      <td>Jack</td>\n",
       "    </tr>\n",
       "    <tr>\n",
       "      <th>Age</th>\n",
       "      <td>25</td>\n",
       "      <td>26</td>\n",
       "      <td>25</td>\n",
       "      <td>23</td>\n",
       "      <td>30</td>\n",
       "      <td>29</td>\n",
       "      <td>23</td>\n",
       "    </tr>\n",
       "    <tr>\n",
       "      <th>Rating</th>\n",
       "      <td>4.23</td>\n",
       "      <td>3.24</td>\n",
       "      <td>3.98</td>\n",
       "      <td>2.56</td>\n",
       "      <td>3.2</td>\n",
       "      <td>4.6</td>\n",
       "      <td>3.8</td>\n",
       "    </tr>\n",
       "  </tbody>\n",
       "</table>\n",
       "</div>"
      ],
      "text/plain": [
       "           0      1      2     3      4      5     6\n",
       "Name     Tom  James  Ricky   Vin  Steve  Smith  Jack\n",
       "Age       25     26     25    23     30     29    23\n",
       "Rating  4.23   3.24   3.98  2.56    3.2    4.6   3.8"
      ]
     },
     "execution_count": 20,
     "metadata": {},
     "output_type": "execute_result"
    }
   ],
   "source": [
    "df.T"
   ]
  },
  {
   "cell_type": "code",
   "execution_count": 21,
   "id": "290b61c3",
   "metadata": {},
   "outputs": [
    {
     "data": {
      "text/plain": [
       "[RangeIndex(start=0, stop=7, step=1),\n",
       " Index(['Name', 'Age', 'Rating'], dtype='object')]"
      ]
     },
     "execution_count": 21,
     "metadata": {},
     "output_type": "execute_result"
    }
   ],
   "source": [
    "df.axes"
   ]
  },
  {
   "cell_type": "code",
   "execution_count": 22,
   "id": "34934d0c",
   "metadata": {},
   "outputs": [
    {
     "data": {
      "text/plain": [
       "Name       object\n",
       "Age         int64\n",
       "Rating    float64\n",
       "dtype: object"
      ]
     },
     "execution_count": 22,
     "metadata": {},
     "output_type": "execute_result"
    }
   ],
   "source": [
    "df.dtypes"
   ]
  },
  {
   "cell_type": "code",
   "execution_count": 23,
   "id": "a6eec4b1",
   "metadata": {},
   "outputs": [
    {
     "data": {
      "text/plain": [
       "False"
      ]
     },
     "execution_count": 23,
     "metadata": {},
     "output_type": "execute_result"
    }
   ],
   "source": [
    "df.empty"
   ]
  },
  {
   "cell_type": "code",
   "execution_count": 24,
   "id": "19b72595",
   "metadata": {},
   "outputs": [
    {
     "data": {
      "text/plain": [
       "(7, 3)"
      ]
     },
     "execution_count": 24,
     "metadata": {},
     "output_type": "execute_result"
    }
   ],
   "source": [
    "df.shape"
   ]
  },
  {
   "cell_type": "code",
   "execution_count": 25,
   "id": "143e3208",
   "metadata": {},
   "outputs": [
    {
     "data": {
      "text/plain": [
       "2"
      ]
     },
     "execution_count": 25,
     "metadata": {},
     "output_type": "execute_result"
    }
   ],
   "source": [
    "df.ndim"
   ]
  },
  {
   "cell_type": "code",
   "execution_count": 26,
   "id": "198b44e8",
   "metadata": {},
   "outputs": [
    {
     "data": {
      "text/plain": [
       "21"
      ]
     },
     "execution_count": 26,
     "metadata": {},
     "output_type": "execute_result"
    }
   ],
   "source": [
    "df.size"
   ]
  },
  {
   "cell_type": "code",
   "execution_count": 27,
   "id": "ceee888e",
   "metadata": {},
   "outputs": [
    {
     "data": {
      "text/html": [
       "<div>\n",
       "<style scoped>\n",
       "    .dataframe tbody tr th:only-of-type {\n",
       "        vertical-align: middle;\n",
       "    }\n",
       "\n",
       "    .dataframe tbody tr th {\n",
       "        vertical-align: top;\n",
       "    }\n",
       "\n",
       "    .dataframe thead th {\n",
       "        text-align: right;\n",
       "    }\n",
       "</style>\n",
       "<table border=\"1\" class=\"dataframe\">\n",
       "  <thead>\n",
       "    <tr style=\"text-align: right;\">\n",
       "      <th></th>\n",
       "      <th>Name</th>\n",
       "      <th>Age</th>\n",
       "      <th>Rating</th>\n",
       "    </tr>\n",
       "  </thead>\n",
       "  <tbody>\n",
       "    <tr>\n",
       "      <th>0</th>\n",
       "      <td>Tom</td>\n",
       "      <td>25</td>\n",
       "      <td>4.23</td>\n",
       "    </tr>\n",
       "    <tr>\n",
       "      <th>1</th>\n",
       "      <td>James</td>\n",
       "      <td>26</td>\n",
       "      <td>3.24</td>\n",
       "    </tr>\n",
       "    <tr>\n",
       "      <th>2</th>\n",
       "      <td>Ricky</td>\n",
       "      <td>25</td>\n",
       "      <td>3.98</td>\n",
       "    </tr>\n",
       "    <tr>\n",
       "      <th>3</th>\n",
       "      <td>Vin</td>\n",
       "      <td>23</td>\n",
       "      <td>2.56</td>\n",
       "    </tr>\n",
       "    <tr>\n",
       "      <th>4</th>\n",
       "      <td>Steve</td>\n",
       "      <td>30</td>\n",
       "      <td>3.20</td>\n",
       "    </tr>\n",
       "  </tbody>\n",
       "</table>\n",
       "</div>"
      ],
      "text/plain": [
       "    Name  Age  Rating\n",
       "0    Tom   25    4.23\n",
       "1  James   26    3.24\n",
       "2  Ricky   25    3.98\n",
       "3    Vin   23    2.56\n",
       "4  Steve   30    3.20"
      ]
     },
     "execution_count": 27,
     "metadata": {},
     "output_type": "execute_result"
    }
   ],
   "source": [
    "df.head()"
   ]
  },
  {
   "cell_type": "code",
   "execution_count": 28,
   "id": "01b19b57",
   "metadata": {},
   "outputs": [
    {
     "data": {
      "text/html": [
       "<div>\n",
       "<style scoped>\n",
       "    .dataframe tbody tr th:only-of-type {\n",
       "        vertical-align: middle;\n",
       "    }\n",
       "\n",
       "    .dataframe tbody tr th {\n",
       "        vertical-align: top;\n",
       "    }\n",
       "\n",
       "    .dataframe thead th {\n",
       "        text-align: right;\n",
       "    }\n",
       "</style>\n",
       "<table border=\"1\" class=\"dataframe\">\n",
       "  <thead>\n",
       "    <tr style=\"text-align: right;\">\n",
       "      <th></th>\n",
       "      <th>Name</th>\n",
       "      <th>Age</th>\n",
       "      <th>Rating</th>\n",
       "    </tr>\n",
       "  </thead>\n",
       "  <tbody>\n",
       "    <tr>\n",
       "      <th>2</th>\n",
       "      <td>Ricky</td>\n",
       "      <td>25</td>\n",
       "      <td>3.98</td>\n",
       "    </tr>\n",
       "    <tr>\n",
       "      <th>3</th>\n",
       "      <td>Vin</td>\n",
       "      <td>23</td>\n",
       "      <td>2.56</td>\n",
       "    </tr>\n",
       "    <tr>\n",
       "      <th>4</th>\n",
       "      <td>Steve</td>\n",
       "      <td>30</td>\n",
       "      <td>3.20</td>\n",
       "    </tr>\n",
       "    <tr>\n",
       "      <th>5</th>\n",
       "      <td>Smith</td>\n",
       "      <td>29</td>\n",
       "      <td>4.60</td>\n",
       "    </tr>\n",
       "    <tr>\n",
       "      <th>6</th>\n",
       "      <td>Jack</td>\n",
       "      <td>23</td>\n",
       "      <td>3.80</td>\n",
       "    </tr>\n",
       "  </tbody>\n",
       "</table>\n",
       "</div>"
      ],
      "text/plain": [
       "    Name  Age  Rating\n",
       "2  Ricky   25    3.98\n",
       "3    Vin   23    2.56\n",
       "4  Steve   30    3.20\n",
       "5  Smith   29    4.60\n",
       "6   Jack   23    3.80"
      ]
     },
     "execution_count": 28,
     "metadata": {},
     "output_type": "execute_result"
    }
   ],
   "source": [
    "df.tail()"
   ]
  },
  {
   "cell_type": "code",
   "execution_count": 29,
   "id": "e4c937a7",
   "metadata": {},
   "outputs": [
    {
     "data": {
      "text/plain": [
       "array([['Tom', 25, 4.23],\n",
       "       ['James', 26, 3.24],\n",
       "       ['Ricky', 25, 3.98],\n",
       "       ['Vin', 23, 2.56],\n",
       "       ['Steve', 30, 3.2],\n",
       "       ['Smith', 29, 4.6],\n",
       "       ['Jack', 23, 3.8]], dtype=object)"
      ]
     },
     "execution_count": 29,
     "metadata": {},
     "output_type": "execute_result"
    }
   ],
   "source": [
    "df.values"
   ]
  },
  {
   "cell_type": "code",
   "execution_count": null,
   "id": "4da551eb",
   "metadata": {},
   "outputs": [],
   "source": []
  },
  {
   "cell_type": "code",
   "execution_count": null,
   "id": "abf37e4f",
   "metadata": {},
   "outputs": [],
   "source": []
  },
  {
   "cell_type": "markdown",
   "id": "7115480c",
   "metadata": {},
   "source": [
    "# Python Pandas - Reindexing\n"
   ]
  },
  {
   "cell_type": "code",
   "execution_count": 30,
   "id": "748e1878",
   "metadata": {},
   "outputs": [
    {
     "name": "stdout",
     "output_type": "stream",
     "text": [
      "           A       C   B\n",
      "0 2016-01-01  Medium NaN\n",
      "2 2016-01-03     Low NaN\n",
      "5 2016-01-06     Low NaN\n"
     ]
    }
   ],
   "source": [
    "import pandas as pd\n",
    "import numpy as np\n",
    "\n",
    "N=20\n",
    "\n",
    "df = pd.DataFrame({\n",
    "   'A': pd.date_range(start='2016-01-01',periods=N,freq='D'),\n",
    "   'x': np.linspace(0,stop=N-1,num=N),\n",
    "   'y': np.random.rand(N),\n",
    "   'C': np.random.choice(['Low','Medium','High'],N).tolist(),\n",
    "   'D': np.random.normal(100, 10, size=(N)).tolist()\n",
    "})\n",
    "\n",
    "#reindex the DataFrame\n",
    "df_reindexed = df.reindex(index=[0,2,5], columns=['A', 'C', 'B'])\n",
    "\n",
    "print(df_reindexed)"
   ]
  },
  {
   "cell_type": "markdown",
   "id": "1465eb0c",
   "metadata": {},
   "source": [
    "# Example 2"
   ]
  },
  {
   "cell_type": "code",
   "execution_count": 32,
   "id": "eb3540d2",
   "metadata": {},
   "outputs": [
    {
     "name": "stdout",
     "output_type": "stream",
     "text": [
      "       col1      col2      col3\n",
      "0 -0.621237  0.617255 -1.024003\n",
      "1  1.980998  2.050104  0.426758\n",
      "2  0.953572 -0.188998 -2.309905\n",
      "3  0.244630  1.634965  0.543501\n",
      "4  0.199498  0.888335  2.666225\n",
      "5 -0.964161  1.329101  1.530655\n",
      "6  0.257759  1.237729  0.661187\n"
     ]
    }
   ],
   "source": [
    "import pandas as pd\n",
    "import numpy as np\n",
    "\n",
    "df1 = pd.DataFrame(np.random.randn(10,3),columns=['col1','col2','col3'])\n",
    "df2 = pd.DataFrame(np.random.randn(7,3),columns=['col1','col2','col3'])\n",
    "\n",
    "df1 = df1.reindex_like(df2)\n",
    "print(df1)"
   ]
  },
  {
   "cell_type": "markdown",
   "id": "72413438",
   "metadata": {},
   "source": [
    "# Example3 "
   ]
  },
  {
   "cell_type": "code",
   "execution_count": 33,
   "id": "f50b8e51",
   "metadata": {},
   "outputs": [
    {
     "name": "stdout",
     "output_type": "stream",
     "text": [
      "       col1      col2      col3\n",
      "0 -1.264701  0.432584  0.264099\n",
      "1  0.400733  1.991422 -0.063198\n",
      "2       NaN       NaN       NaN\n",
      "3       NaN       NaN       NaN\n",
      "4       NaN       NaN       NaN\n",
      "5       NaN       NaN       NaN\n"
     ]
    }
   ],
   "source": [
    "import pandas as pd\n",
    "import numpy as np\n",
    "\n",
    "df1 = pd.DataFrame(np.random.randn(6,3),columns=['col1','col2','col3'])\n",
    "df2 = pd.DataFrame(np.random.randn(2,3),columns=['col1','col2','col3'])\n",
    "\n",
    "# Padding NAN's\n",
    "print(df2.reindex_like(df1))\n",
    "\n"
   ]
  },
  {
   "cell_type": "code",
   "execution_count": 35,
   "id": "f2791c98",
   "metadata": {},
   "outputs": [
    {
     "name": "stdout",
     "output_type": "stream",
     "text": [
      "Data Frame with Forward Fill:\n",
      "       col1      col2      col3\n",
      "0 -1.264701  0.432584  0.264099\n",
      "1  0.400733  1.991422 -0.063198\n",
      "2  0.400733  1.991422 -0.063198\n",
      "3  0.400733  1.991422 -0.063198\n",
      "4  0.400733  1.991422 -0.063198\n",
      "5  0.400733  1.991422 -0.063198\n"
     ]
    }
   ],
   "source": [
    "# Now Fill the NAN's with preceding Values\n",
    "print (\"Data Frame with Forward Fill:\")\n",
    "print(df2.reindex_like(df1,method='ffill'))"
   ]
  },
  {
   "cell_type": "code",
   "execution_count": null,
   "id": "10d06eb8",
   "metadata": {},
   "outputs": [],
   "source": []
  },
  {
   "cell_type": "code",
   "execution_count": null,
   "id": "f235c877",
   "metadata": {},
   "outputs": [],
   "source": []
  },
  {
   "cell_type": "markdown",
   "id": "add78604",
   "metadata": {},
   "source": [
    "# Python Pandas - Iteration\n"
   ]
  },
  {
   "cell_type": "code",
   "execution_count": 36,
   "id": "ec9dcb5d",
   "metadata": {},
   "outputs": [
    {
     "name": "stdout",
     "output_type": "stream",
     "text": [
      "            A     x         y       C           D\n",
      "0  2016-01-01   0.0  0.904610  Medium   99.264390\n",
      "1  2016-01-02   1.0  0.796942    High  113.919772\n",
      "2  2016-01-03   2.0  0.218437     Low   92.354216\n",
      "3  2016-01-04   3.0  0.356472     Low   88.908327\n",
      "4  2016-01-05   4.0  0.194077  Medium  115.036480\n",
      "5  2016-01-06   5.0  0.534748    High  101.015795\n",
      "6  2016-01-07   6.0  0.320662  Medium  101.572297\n",
      "7  2016-01-08   7.0  0.163509     Low  108.442027\n",
      "8  2016-01-09   8.0  0.533327     Low  101.061745\n",
      "9  2016-01-10   9.0  0.343221    High   97.490935\n",
      "10 2016-01-11  10.0  0.768779    High  110.307678\n",
      "11 2016-01-12  11.0  0.971402     Low  119.599592\n",
      "12 2016-01-13  12.0  0.190447    High  106.539687\n",
      "13 2016-01-14  13.0  0.853924  Medium  102.502830\n",
      "14 2016-01-15  14.0  0.057836     Low  122.565932\n",
      "15 2016-01-16  15.0  0.797479     Low  102.368549\n",
      "16 2016-01-17  16.0  0.382393  Medium  121.304715\n",
      "17 2016-01-18  17.0  0.135384     Low   81.025957\n",
      "18 2016-01-19  18.0  0.930352     Low  102.723052\n",
      "19 2016-01-20  19.0  0.818917     Low   98.532292\n"
     ]
    }
   ],
   "source": [
    "import pandas as pd\n",
    "import numpy as np\n",
    " \n",
    "N=20\n",
    "df = pd.DataFrame({\n",
    "   'A': pd.date_range(start='2016-01-01',periods=N,freq='D'),\n",
    "   'x': np.linspace(0,stop=N-1,num=N),\n",
    "   'y': np.random.rand(N),\n",
    "   'C': np.random.choice(['Low','Medium','High'],N).tolist(),\n",
    "   'D': np.random.normal(100, 10, size=(N)).tolist()\n",
    "   })\n",
    "\n",
    "print(df)\n",
    "  "
   ]
  },
  {
   "cell_type": "code",
   "execution_count": 37,
   "id": "77cc0490",
   "metadata": {},
   "outputs": [
    {
     "name": "stdout",
     "output_type": "stream",
     "text": [
      "A\n",
      "x\n",
      "y\n",
      "C\n",
      "D\n"
     ]
    }
   ],
   "source": [
    "for col in df:\n",
    "    print(col)"
   ]
  },
  {
   "cell_type": "code",
   "execution_count": 40,
   "id": "5e65ba60",
   "metadata": {},
   "outputs": [
    {
     "name": "stdout",
     "output_type": "stream",
     "text": [
      "A\n",
      "x\n",
      "y\n",
      "C\n",
      "D\n"
     ]
    }
   ],
   "source": [
    "for col in df:\n",
    "    print(col[0])"
   ]
  },
  {
   "cell_type": "code",
   "execution_count": null,
   "id": "709b37d8",
   "metadata": {},
   "outputs": [],
   "source": []
  },
  {
   "cell_type": "code",
   "execution_count": null,
   "id": "45050adb",
   "metadata": {},
   "outputs": [],
   "source": []
  },
  {
   "cell_type": "markdown",
   "id": "cd13e57e",
   "metadata": {},
   "source": [
    "# iteritems()\n",
    "Iterates over each column as key, value pair with label as key and column value as a Series object."
   ]
  },
  {
   "cell_type": "code",
   "execution_count": 42,
   "id": "ad345b04",
   "metadata": {},
   "outputs": [
    {
     "name": "stdout",
     "output_type": "stream",
     "text": [
      "col1\n",
      "0   -0.558246\n",
      "1   -1.998198\n",
      "2   -1.309356\n",
      "3   -0.656238\n",
      "Name: col1, dtype: float64\n",
      "col2\n",
      "0    1.568714\n",
      "1    0.023446\n",
      "2    0.582394\n",
      "3    0.697011\n",
      "Name: col2, dtype: float64\n",
      "col3\n",
      "0   -0.320420\n",
      "1   -0.249520\n",
      "2   -0.438061\n",
      "3   -1.259055\n",
      "Name: col3, dtype: float64\n"
     ]
    }
   ],
   "source": [
    "import pandas as pd\n",
    "import numpy as np\n",
    " \n",
    "df = pd.DataFrame(np.random.randn(4,3),columns=['col1','col2','col3'])\n",
    "for key,e in df.iteritems():\n",
    "    print(key)\n",
    "    print(value)\n",
    "  "
   ]
  },
  {
   "cell_type": "markdown",
   "id": "4fe7b299",
   "metadata": {},
   "source": [
    "# iterrows() − iterate over the rows as (index,series) pairs"
   ]
  },
  {
   "cell_type": "code",
   "execution_count": 44,
   "id": "a07cc9c7",
   "metadata": {},
   "outputs": [
    {
     "name": "stdout",
     "output_type": "stream",
     "text": [
      "0\n",
      "col1   -0.558246\n",
      "col2    1.568714\n",
      "col3   -0.320420\n",
      "Name: 0, dtype: float64\n",
      "1\n",
      "col1   -1.998198\n",
      "col2    0.023446\n",
      "col3   -0.249520\n",
      "Name: 1, dtype: float64\n",
      "2\n",
      "col1   -1.309356\n",
      "col2    0.582394\n",
      "col3   -0.438061\n",
      "Name: 2, dtype: float64\n",
      "3\n",
      "col1   -0.656238\n",
      "col2    0.697011\n",
      "col3   -1.259055\n",
      "Name: 3, dtype: float64\n"
     ]
    }
   ],
   "source": [
    "for row_index,value in df.iterrows():\n",
    "    print(row_index)\n",
    "    print(value)"
   ]
  },
  {
   "cell_type": "code",
   "execution_count": null,
   "id": "c869c8e2",
   "metadata": {},
   "outputs": [],
   "source": []
  },
  {
   "cell_type": "markdown",
   "id": "97cd04c2",
   "metadata": {},
   "source": [
    "# Python Pandas - Sorting"
   ]
  },
  {
   "cell_type": "markdown",
   "id": "9683ed26",
   "metadata": {},
   "source": [
    "There are two kinds of sorting available in Pandas. They are −\n",
    "\n",
    "1. By label\n",
    "2. By Actual Value"
   ]
  },
  {
   "cell_type": "code",
   "execution_count": 46,
   "id": "90c0cf38",
   "metadata": {},
   "outputs": [
    {
     "name": "stdout",
     "output_type": "stream",
     "text": [
      "       col2      col1\n",
      "1 -2.027636 -1.445947\n",
      "4 -0.346513  0.557388\n",
      "6  0.860799 -2.135852\n",
      "2 -0.886623  0.787555\n",
      "3  0.595734  1.065287\n",
      "5 -0.845461  1.102211\n",
      "9 -0.585511 -0.318334\n",
      "8  0.250476 -0.937402\n",
      "0  1.457797  0.837356\n",
      "7 -1.114216  0.150068\n"
     ]
    }
   ],
   "source": [
    "import pandas as pd\n",
    "import numpy as np\n",
    "\n",
    "unsorted_df=pd.DataFrame(np.random.randn(10,2),index=[1,4,6,2,3,5,9,8,0,7],columns=['col2','col1'])\n",
    "print(unsorted_df)"
   ]
  },
  {
   "cell_type": "markdown",
   "id": "c3698129",
   "metadata": {},
   "source": [
    "# By Label\n",
    "Using the sort_index() method"
   ]
  },
  {
   "cell_type": "code",
   "execution_count": 48,
   "id": "9861615c",
   "metadata": {},
   "outputs": [
    {
     "name": "stdout",
     "output_type": "stream",
     "text": [
      "       col2      col1\n",
      "0  1.457797  0.837356\n",
      "1 -2.027636 -1.445947\n",
      "2 -0.886623  0.787555\n",
      "3  0.595734  1.065287\n",
      "4 -0.346513  0.557388\n",
      "5 -0.845461  1.102211\n",
      "6  0.860799 -2.135852\n",
      "7 -1.114216  0.150068\n",
      "8  0.250476 -0.937402\n",
      "9 -0.585511 -0.318334\n"
     ]
    }
   ],
   "source": [
    "sorted_df = unsorted_df.sort_index()\n",
    "print(sorted_df)"
   ]
  },
  {
   "cell_type": "markdown",
   "id": "05b22ea6",
   "metadata": {},
   "source": [
    "# Sort the Columns"
   ]
  },
  {
   "cell_type": "code",
   "execution_count": 50,
   "id": "78a9cfd3",
   "metadata": {},
   "outputs": [
    {
     "name": "stdout",
     "output_type": "stream",
     "text": [
      "       col1      col2\n",
      "1 -1.445947 -2.027636\n",
      "4  0.557388 -0.346513\n",
      "6 -2.135852  0.860799\n",
      "2  0.787555 -0.886623\n",
      "3  1.065287  0.595734\n",
      "5  1.102211 -0.845461\n",
      "9 -0.318334 -0.585511\n",
      "8 -0.937402  0.250476\n",
      "0  0.837356  1.457797\n",
      "7  0.150068 -1.114216\n"
     ]
    }
   ],
   "source": [
    "sorted_df = unsorted_df.sort_index(axis=1)\n",
    "print(sorted_df)"
   ]
  },
  {
   "cell_type": "markdown",
   "id": "8707e570",
   "metadata": {},
   "source": [
    "# By Value\n",
    "Like index sorting, sort_values() is the method"
   ]
  },
  {
   "cell_type": "code",
   "execution_count": 55,
   "id": "5478e28f",
   "metadata": {},
   "outputs": [
    {
     "name": "stdout",
     "output_type": "stream",
     "text": [
      "   col1  col2\n",
      "0     2     1\n",
      "1     1     3\n",
      "2     1     2\n",
      "3     1     4\n"
     ]
    }
   ],
   "source": [
    "import pandas as pd\n",
    "import numpy as np\n",
    "\n",
    "unsorted_df1 = pd.DataFrame({'col1':[2,1,1,1],'col2':[1,3,2,4]})\n",
    "print(unsorted_df1)"
   ]
  },
  {
   "cell_type": "code",
   "execution_count": 57,
   "id": "7277a18b",
   "metadata": {},
   "outputs": [],
   "source": [
    "sorted_df1 = unsorted_df1.sort_values(by = 'col1')"
   ]
  },
  {
   "cell_type": "code",
   "execution_count": 58,
   "id": "5a5a1b15",
   "metadata": {},
   "outputs": [
    {
     "data": {
      "text/html": [
       "<div>\n",
       "<style scoped>\n",
       "    .dataframe tbody tr th:only-of-type {\n",
       "        vertical-align: middle;\n",
       "    }\n",
       "\n",
       "    .dataframe tbody tr th {\n",
       "        vertical-align: top;\n",
       "    }\n",
       "\n",
       "    .dataframe thead th {\n",
       "        text-align: right;\n",
       "    }\n",
       "</style>\n",
       "<table border=\"1\" class=\"dataframe\">\n",
       "  <thead>\n",
       "    <tr style=\"text-align: right;\">\n",
       "      <th></th>\n",
       "      <th>col1</th>\n",
       "      <th>col2</th>\n",
       "    </tr>\n",
       "  </thead>\n",
       "  <tbody>\n",
       "    <tr>\n",
       "      <th>1</th>\n",
       "      <td>1</td>\n",
       "      <td>3</td>\n",
       "    </tr>\n",
       "    <tr>\n",
       "      <th>2</th>\n",
       "      <td>1</td>\n",
       "      <td>2</td>\n",
       "    </tr>\n",
       "    <tr>\n",
       "      <th>3</th>\n",
       "      <td>1</td>\n",
       "      <td>4</td>\n",
       "    </tr>\n",
       "    <tr>\n",
       "      <th>0</th>\n",
       "      <td>2</td>\n",
       "      <td>1</td>\n",
       "    </tr>\n",
       "  </tbody>\n",
       "</table>\n",
       "</div>"
      ],
      "text/plain": [
       "   col1  col2\n",
       "1     1     3\n",
       "2     1     2\n",
       "3     1     4\n",
       "0     2     1"
      ]
     },
     "execution_count": 58,
     "metadata": {},
     "output_type": "execute_result"
    }
   ],
   "source": [
    "sorted_df1"
   ]
  },
  {
   "cell_type": "code",
   "execution_count": 59,
   "id": "26aff50f",
   "metadata": {},
   "outputs": [
    {
     "data": {
      "text/html": [
       "<div>\n",
       "<style scoped>\n",
       "    .dataframe tbody tr th:only-of-type {\n",
       "        vertical-align: middle;\n",
       "    }\n",
       "\n",
       "    .dataframe tbody tr th {\n",
       "        vertical-align: top;\n",
       "    }\n",
       "\n",
       "    .dataframe thead th {\n",
       "        text-align: right;\n",
       "    }\n",
       "</style>\n",
       "<table border=\"1\" class=\"dataframe\">\n",
       "  <thead>\n",
       "    <tr style=\"text-align: right;\">\n",
       "      <th></th>\n",
       "      <th>col1</th>\n",
       "      <th>col2</th>\n",
       "    </tr>\n",
       "  </thead>\n",
       "  <tbody>\n",
       "    <tr>\n",
       "      <th>0</th>\n",
       "      <td>2</td>\n",
       "      <td>1</td>\n",
       "    </tr>\n",
       "    <tr>\n",
       "      <th>2</th>\n",
       "      <td>1</td>\n",
       "      <td>2</td>\n",
       "    </tr>\n",
       "    <tr>\n",
       "      <th>1</th>\n",
       "      <td>1</td>\n",
       "      <td>3</td>\n",
       "    </tr>\n",
       "    <tr>\n",
       "      <th>3</th>\n",
       "      <td>1</td>\n",
       "      <td>4</td>\n",
       "    </tr>\n",
       "  </tbody>\n",
       "</table>\n",
       "</div>"
      ],
      "text/plain": [
       "   col1  col2\n",
       "0     2     1\n",
       "2     1     2\n",
       "1     1     3\n",
       "3     1     4"
      ]
     },
     "execution_count": 59,
     "metadata": {},
     "output_type": "execute_result"
    }
   ],
   "source": [
    "unsorted_df1.sort_values(by = 'col2')"
   ]
  },
  {
   "cell_type": "code",
   "execution_count": null,
   "id": "d9a356d5",
   "metadata": {},
   "outputs": [],
   "source": []
  }
 ],
 "metadata": {
  "kernelspec": {
   "display_name": "Python 3 (ipykernel)",
   "language": "python",
   "name": "python3"
  },
  "language_info": {
   "codemirror_mode": {
    "name": "ipython",
    "version": 3
   },
   "file_extension": ".py",
   "mimetype": "text/x-python",
   "name": "python",
   "nbconvert_exporter": "python",
   "pygments_lexer": "ipython3",
   "version": "3.8.13"
  }
 },
 "nbformat": 4,
 "nbformat_minor": 5
}
