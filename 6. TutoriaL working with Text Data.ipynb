{
 "cells": [
  {
   "cell_type": "markdown",
   "id": "a37e59ce",
   "metadata": {},
   "source": [
    "# Python Pandas - Working with Text Data\n"
   ]
  },
  {
   "cell_type": "code",
   "execution_count": 1,
   "id": "e877071e",
   "metadata": {},
   "outputs": [
    {
     "name": "stdout",
     "output_type": "stream",
     "text": [
      "0             Tom\n",
      "1    William Rick\n",
      "2            John\n",
      "3         Alber@t\n",
      "4             NaN\n",
      "5            1234\n",
      "6      SteveSmith\n",
      "dtype: object\n"
     ]
    }
   ],
   "source": [
    "import pandas as pd\n",
    "import numpy as np\n",
    "\n",
    "s = pd.Series(['Tom', 'William Rick', 'John', 'Alber@t', np.nan, '1234','SteveSmith'])\n",
    "\n",
    "print(s)"
   ]
  },
  {
   "cell_type": "markdown",
   "id": "1dc610e2",
   "metadata": {},
   "source": [
    "# Lower()"
   ]
  },
  {
   "cell_type": "code",
   "execution_count": 2,
   "id": "1b99c9e6",
   "metadata": {},
   "outputs": [
    {
     "name": "stdout",
     "output_type": "stream",
     "text": [
      "0             tom\n",
      "1    william rick\n",
      "2            john\n",
      "3         alber@t\n",
      "4             NaN\n",
      "5            1234\n",
      "6      stevesmith\n",
      "dtype: object\n"
     ]
    }
   ],
   "source": [
    "print(s.str.lower())"
   ]
  },
  {
   "cell_type": "markdown",
   "id": "716a921a",
   "metadata": {},
   "source": [
    "# upper()"
   ]
  },
  {
   "cell_type": "code",
   "execution_count": 3,
   "id": "a6d0b7b4",
   "metadata": {},
   "outputs": [
    {
     "name": "stdout",
     "output_type": "stream",
     "text": [
      "0             TOM\n",
      "1    WILLIAM RICK\n",
      "2            JOHN\n",
      "3         ALBER@T\n",
      "4             NaN\n",
      "5            1234\n",
      "6      STEVESMITH\n",
      "dtype: object\n"
     ]
    }
   ],
   "source": [
    "print(s.str.upper())"
   ]
  },
  {
   "cell_type": "markdown",
   "id": "bc68eb3b",
   "metadata": {},
   "source": [
    "# len()"
   ]
  },
  {
   "cell_type": "code",
   "execution_count": 5,
   "id": "2503d083",
   "metadata": {},
   "outputs": [
    {
     "name": "stdout",
     "output_type": "stream",
     "text": [
      "0     3.0\n",
      "1    12.0\n",
      "2     4.0\n",
      "3     7.0\n",
      "4     NaN\n",
      "5     4.0\n",
      "6    10.0\n",
      "dtype: float64\n"
     ]
    }
   ],
   "source": [
    "print(s.str.len())"
   ]
  },
  {
   "cell_type": "markdown",
   "id": "a413ba28",
   "metadata": {},
   "source": [
    "# split(pattern)"
   ]
  },
  {
   "cell_type": "code",
   "execution_count": 14,
   "id": "0176162d",
   "metadata": {},
   "outputs": [
    {
     "name": "stdout",
     "output_type": "stream",
     "text": [
      "0             Tom \n",
      "1     William Rick\n",
      "2             John\n",
      "3          Alber@t\n",
      "dtype: object\n",
      "  \n",
      "After Spliting\n",
      "0              [Tom, ]\n",
      "1    [, William, Rick]\n",
      "2               [John]\n",
      "3            [Alber@t]\n",
      "dtype: object\n"
     ]
    }
   ],
   "source": [
    "s1 = pd.Series(['Tom ', ' William Rick', 'John', 'Alber@t'])\n",
    "print(s1)\n",
    "print(\"  \")\n",
    "print(\"After Spliting\")\n",
    "print(s1.str.split(' '))"
   ]
  },
  {
   "cell_type": "markdown",
   "id": "7b65a090",
   "metadata": {},
   "source": [
    "# get_dummies()\n"
   ]
  },
  {
   "cell_type": "code",
   "execution_count": 16,
   "id": "206d7a91",
   "metadata": {},
   "outputs": [
    {
     "name": "stdout",
     "output_type": "stream",
     "text": [
      "0             Tom \n",
      "1     William Rick\n",
      "2             John\n",
      "3          Alber@t\n",
      "dtype: object\n"
     ]
    }
   ],
   "source": [
    "import pandas as pd\n",
    "import numpy as np\n",
    "\n",
    "s = pd.Series(['Tom ', ' William Rick', 'John', 'Alber@t'])\n",
    "print(s)"
   ]
  },
  {
   "cell_type": "code",
   "execution_count": 18,
   "id": "655d35b8",
   "metadata": {},
   "outputs": [
    {
     "name": "stdout",
     "output_type": "stream",
     "text": [
      "    William Rick  Alber@t  John  Tom \n",
      "0              0        0     0     1\n",
      "1              1        0     0     0\n",
      "2              0        0     1     0\n",
      "3              0        1     0     0\n"
     ]
    }
   ],
   "source": [
    "print(s.str.get_dummies())"
   ]
  },
  {
   "cell_type": "markdown",
   "id": "b227361c",
   "metadata": {},
   "source": [
    "# replace(a,b)"
   ]
  },
  {
   "cell_type": "code",
   "execution_count": 21,
   "id": "0b8b8700",
   "metadata": {},
   "outputs": [
    {
     "name": "stdout",
     "output_type": "stream",
     "text": [
      "0             Tom \n",
      "1     William Rick\n",
      "2             John\n",
      "3          Alber@t\n",
      "dtype: object\n"
     ]
    }
   ],
   "source": [
    "import pandas as pd\n",
    "s = pd.Series(['Tom ', ' William Rick', 'John', 'Alber@t'])\n",
    "print(s)\n",
    "\n"
   ]
  },
  {
   "cell_type": "code",
   "execution_count": 22,
   "id": "43b52478",
   "metadata": {},
   "outputs": [
    {
     "name": "stdout",
     "output_type": "stream",
     "text": [
      "After replacing @ with $:\n",
      "0             Tom \n",
      "1     William Rick\n",
      "2             John\n",
      "3          Alber$t\n",
      "dtype: object\n"
     ]
    }
   ],
   "source": [
    "print (\"After replacing @ with $:\")\n",
    "print(s.str.replace('@','$'))"
   ]
  },
  {
   "cell_type": "markdown",
   "id": "5e424a10",
   "metadata": {},
   "source": [
    "# count(pattern)\n"
   ]
  },
  {
   "cell_type": "code",
   "execution_count": 23,
   "id": "67578ce4",
   "metadata": {},
   "outputs": [
    {
     "name": "stdout",
     "output_type": "stream",
     "text": [
      "The number of 'm's in each string:\n",
      "0    1\n",
      "1    1\n",
      "2    0\n",
      "3    0\n",
      "dtype: int64\n"
     ]
    }
   ],
   "source": [
    "import pandas as pd\n",
    " \n",
    "s = pd.Series(['Tom ', ' William Rick', 'John', 'Alber@t'])\n",
    "\n",
    "print (\"The number of 'm's in each string:\")\n",
    "print(s.str.count('m'))"
   ]
  },
  {
   "cell_type": "markdown",
   "id": "438464b9",
   "metadata": {},
   "source": [
    "# startswith(pattern)\n"
   ]
  },
  {
   "cell_type": "code",
   "execution_count": 25,
   "id": "e7705c0b",
   "metadata": {},
   "outputs": [
    {
     "name": "stdout",
     "output_type": "stream",
     "text": [
      "0    False\n",
      "1    False\n",
      "2    False\n",
      "3    False\n",
      "dtype: bool\n"
     ]
    }
   ],
   "source": [
    "print(s.str.startswith('r'))"
   ]
  },
  {
   "cell_type": "code",
   "execution_count": 26,
   "id": "b84addc5",
   "metadata": {},
   "outputs": [
    {
     "name": "stdout",
     "output_type": "stream",
     "text": [
      "0    False\n",
      "1    False\n",
      "2    False\n",
      "3    False\n",
      "dtype: bool\n"
     ]
    }
   ],
   "source": [
    "print(s.str.startswith('R'))"
   ]
  },
  {
   "cell_type": "markdown",
   "id": "18fa4c23",
   "metadata": {},
   "source": [
    "# endswith(pattern)\n"
   ]
  },
  {
   "cell_type": "code",
   "execution_count": 28,
   "id": "faf8bba6",
   "metadata": {},
   "outputs": [
    {
     "data": {
      "text/plain": [
       "0    False\n",
       "1    False\n",
       "2    False\n",
       "3     True\n",
       "dtype: bool"
      ]
     },
     "execution_count": 28,
     "metadata": {},
     "output_type": "execute_result"
    }
   ],
   "source": [
    "s.str.endswith(\"t\")"
   ]
  },
  {
   "cell_type": "code",
   "execution_count": 29,
   "id": "3a77a10b",
   "metadata": {},
   "outputs": [
    {
     "data": {
      "text/plain": [
       "0    False\n",
       "1    False\n",
       "2    False\n",
       "3    False\n",
       "dtype: bool"
      ]
     },
     "execution_count": 29,
     "metadata": {},
     "output_type": "execute_result"
    }
   ],
   "source": [
    "s.str.endswith(\"m\")"
   ]
  },
  {
   "cell_type": "markdown",
   "id": "7330bb1a",
   "metadata": {},
   "source": [
    "# findall(pattern)\n"
   ]
  },
  {
   "cell_type": "code",
   "execution_count": 30,
   "id": "48b607cf",
   "metadata": {},
   "outputs": [
    {
     "data": {
      "text/plain": [
       "0             Tom \n",
       "1     William Rick\n",
       "2             John\n",
       "3          Alber@t\n",
       "dtype: object"
      ]
     },
     "execution_count": 30,
     "metadata": {},
     "output_type": "execute_result"
    }
   ],
   "source": [
    "s"
   ]
  },
  {
   "cell_type": "code",
   "execution_count": 32,
   "id": "26fab16c",
   "metadata": {},
   "outputs": [
    {
     "name": "stdout",
     "output_type": "stream",
     "text": [
      "0     []\n",
      "1    [W]\n",
      "2     []\n",
      "3     []\n",
      "dtype: object\n"
     ]
    }
   ],
   "source": [
    "print(s.str.findall(\"W\"))"
   ]
  },
  {
   "cell_type": "code",
   "execution_count": 33,
   "id": "30b0a0f6",
   "metadata": {},
   "outputs": [
    {
     "name": "stdout",
     "output_type": "stream",
     "text": [
      "0     []\n",
      "1     []\n",
      "2     []\n",
      "3    [@]\n",
      "dtype: object\n"
     ]
    }
   ],
   "source": [
    "print(s.str.findall(\"@\"))"
   ]
  },
  {
   "cell_type": "code",
   "execution_count": 34,
   "id": "450fb70b",
   "metadata": {},
   "outputs": [
    {
     "name": "stdout",
     "output_type": "stream",
     "text": [
      "0    False\n",
      "1    False\n",
      "2    False\n",
      "3    False\n",
      "dtype: bool\n"
     ]
    }
   ],
   "source": [
    "print(s.str.isupper())"
   ]
  },
  {
   "cell_type": "code",
   "execution_count": 36,
   "id": "b2fafe47",
   "metadata": {},
   "outputs": [
    {
     "name": "stdout",
     "output_type": "stream",
     "text": [
      "0    False\n",
      "1    False\n",
      "2    False\n",
      "3    False\n",
      "dtype: bool\n"
     ]
    }
   ],
   "source": [
    "print(s.str.islower())"
   ]
  },
  {
   "cell_type": "code",
   "execution_count": 37,
   "id": "54b44e38",
   "metadata": {},
   "outputs": [
    {
     "name": "stdout",
     "output_type": "stream",
     "text": [
      "0    False\n",
      "1    False\n",
      "2    False\n",
      "3    False\n",
      "dtype: bool\n"
     ]
    }
   ],
   "source": [
    "print(s.str.isnumeric())"
   ]
  },
  {
   "cell_type": "markdown",
   "id": "d0a2c77f",
   "metadata": {},
   "source": [
    "# Python Pandas - Indexing and Selecting Data\n"
   ]
  },
  {
   "cell_type": "markdown",
   "id": "9abf742a",
   "metadata": {},
   "source": [
    "![title](c.png)"
   ]
  },
  {
   "cell_type": "code",
   "execution_count": 38,
   "id": "7ca5e70f",
   "metadata": {},
   "outputs": [
    {
     "name": "stdout",
     "output_type": "stream",
     "text": [
      "a    0.219711\n",
      "b   -0.684575\n",
      "c    0.440247\n",
      "d   -1.498358\n",
      "e    0.752049\n",
      "f    0.749663\n",
      "g    1.520816\n",
      "h   -0.843354\n",
      "Name: A, dtype: float64\n"
     ]
    }
   ],
   "source": [
    "#import the pandas library and aliasing as pd\n",
    "import pandas as pd\n",
    "import numpy as np\n",
    "\n",
    "df = pd.DataFrame(np.random.randn(8, 4),\n",
    "index = ['a','b','c','d','e','f','g','h'], columns = ['A', 'B', 'C', 'D'])\n",
    "\n",
    "#select all rows for a specific column\n",
    "print(df.loc[:,'A'])"
   ]
  },
  {
   "cell_type": "code",
   "execution_count": 39,
   "id": "0df9be7c",
   "metadata": {},
   "outputs": [
    {
     "name": "stdout",
     "output_type": "stream",
     "text": [
      "          A         C\n",
      "a  0.219711  0.644081\n",
      "b -0.684575 -1.095837\n",
      "c  0.440247  0.715629\n",
      "d -1.498358 -1.111683\n",
      "e  0.752049 -1.550021\n",
      "f  0.749663  1.175886\n",
      "g  1.520816  0.174725\n",
      "h -0.843354  0.461372\n"
     ]
    }
   ],
   "source": [
    "print(df.loc[:,['A','C']])\n"
   ]
  },
  {
   "cell_type": "code",
   "execution_count": null,
   "id": "e847c610",
   "metadata": {},
   "outputs": [],
   "source": []
  }
 ],
 "metadata": {
  "kernelspec": {
   "display_name": "Python 3 (ipykernel)",
   "language": "python",
   "name": "python3"
  },
  "language_info": {
   "codemirror_mode": {
    "name": "ipython",
    "version": 3
   },
   "file_extension": ".py",
   "mimetype": "text/x-python",
   "name": "python",
   "nbconvert_exporter": "python",
   "pygments_lexer": "ipython3",
   "version": "3.8.13"
  }
 },
 "nbformat": 4,
 "nbformat_minor": 5
}
