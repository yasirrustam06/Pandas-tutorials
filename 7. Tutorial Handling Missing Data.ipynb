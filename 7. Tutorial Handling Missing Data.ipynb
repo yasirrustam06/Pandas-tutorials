{
 "cells": [
  {
   "cell_type": "markdown",
   "id": "43c05182",
   "metadata": {},
   "source": [
    "# HandLing And Cleaning Data\n"
   ]
  },
  {
   "cell_type": "code",
   "execution_count": 1,
   "id": "4682fba8",
   "metadata": {},
   "outputs": [
    {
     "name": "stdout",
     "output_type": "stream",
     "text": [
      "        one       two     three\n",
      "a -0.761875  0.852288  2.315748\n",
      "b       NaN       NaN       NaN\n",
      "c -0.732741 -0.936491  0.600543\n",
      "d       NaN       NaN       NaN\n",
      "e  1.597666  0.176829 -0.241542\n",
      "f  0.254077  0.358455  0.454118\n",
      "g       NaN       NaN       NaN\n",
      "h -0.458100 -2.722864  0.617918\n"
     ]
    }
   ],
   "source": [
    "# import the pandas library\n",
    "import pandas as pd\n",
    "import numpy as np\n",
    "\n",
    "df = pd.DataFrame(np.random.randn(5, 3), index=['a', 'c', 'e', 'f',\n",
    "'h'],columns=['one', 'two', 'three'])\n",
    "\n",
    "df = df.reindex(['a', 'b', 'c', 'd', 'e', 'f', 'g', 'h'])\n",
    "print(df)"
   ]
  },
  {
   "cell_type": "markdown",
   "id": "5a8c8c7e",
   "metadata": {},
   "source": [
    "Using reindexing, we have created a DataFrame with missing values. In the output, NaN means Not a Number.\n",
    "\n"
   ]
  },
  {
   "cell_type": "markdown",
   "id": "9e6cdb3f",
   "metadata": {},
   "source": []
  },
  {
   "cell_type": "markdown",
   "id": "3445789a",
   "metadata": {},
   "source": [
    "# Example 1\n"
   ]
  },
  {
   "cell_type": "markdown",
   "id": "7b641242",
   "metadata": {},
   "source": [
    "####  Check for Missing Values\n",
    "To make detecting missing values easier (and across different array dtypes), Pandas provides the isnull() and notnull() functions, which are also methods on Series and DataFrame objects −"
   ]
  },
  {
   "cell_type": "markdown",
   "id": "cc8bb11e",
   "metadata": {},
   "source": [
    "###  isnull()"
   ]
  },
  {
   "cell_type": "code",
   "execution_count": 2,
   "id": "928b4a1d",
   "metadata": {},
   "outputs": [
    {
     "name": "stdout",
     "output_type": "stream",
     "text": [
      "        one       two     three\n",
      "a -0.903529 -1.486416 -0.040994\n",
      "b       NaN       NaN       NaN\n",
      "c -0.289464 -1.800790  0.937269\n",
      "d       NaN       NaN       NaN\n",
      "e -1.202293 -0.356683 -1.130208\n",
      "f  0.973038 -0.529363 -0.607628\n",
      "g       NaN       NaN       NaN\n",
      "h  1.672525 -1.253391 -1.476751\n"
     ]
    }
   ],
   "source": [
    "import pandas as pd\n",
    "import numpy as np\n",
    " \n",
    "df = pd.DataFrame(np.random.randn(5, 3), index=['a', 'c', 'e', 'f',\n",
    "'h'],columns=['one', 'two', 'three'])\n",
    "\n",
    "df = df.reindex(['a', 'b', 'c', 'd', 'e', 'f', 'g', 'h'])\n",
    "print(df)"
   ]
  },
  {
   "cell_type": "code",
   "execution_count": 6,
   "id": "cdb4ef5f",
   "metadata": {},
   "outputs": [
    {
     "data": {
      "text/plain": [
       "a   -0.903529\n",
       "b         NaN\n",
       "c   -0.289464\n",
       "d         NaN\n",
       "e   -1.202293\n",
       "f    0.973038\n",
       "g         NaN\n",
       "h    1.672525\n",
       "Name: one, dtype: float64"
      ]
     },
     "execution_count": 6,
     "metadata": {},
     "output_type": "execute_result"
    }
   ],
   "source": [
    "df['one']"
   ]
  },
  {
   "cell_type": "code",
   "execution_count": 8,
   "id": "7ee79dc3",
   "metadata": {},
   "outputs": [
    {
     "name": "stdout",
     "output_type": "stream",
     "text": [
      "a    False\n",
      "b     True\n",
      "c    False\n",
      "d     True\n",
      "e    False\n",
      "f    False\n",
      "g     True\n",
      "h    False\n",
      "Name: one, dtype: bool\n"
     ]
    }
   ],
   "source": [
    "print(df.one.isnull())"
   ]
  },
  {
   "cell_type": "code",
   "execution_count": 9,
   "id": "670f104b",
   "metadata": {},
   "outputs": [
    {
     "name": "stdout",
     "output_type": "stream",
     "text": [
      "a    False\n",
      "b     True\n",
      "c    False\n",
      "d     True\n",
      "e    False\n",
      "f    False\n",
      "g     True\n",
      "h    False\n",
      "Name: two, dtype: bool\n"
     ]
    }
   ],
   "source": [
    "df['two']\n",
    "print(df.two.isnull())"
   ]
  },
  {
   "cell_type": "code",
   "execution_count": 3,
   "id": "1fd15110",
   "metadata": {},
   "outputs": [
    {
     "name": "stdout",
     "output_type": "stream",
     "text": [
      "     one    two  three\n",
      "a  False  False  False\n",
      "b   True   True   True\n",
      "c  False  False  False\n",
      "d   True   True   True\n",
      "e  False  False  False\n",
      "f  False  False  False\n",
      "g   True   True   True\n",
      "h  False  False  False\n"
     ]
    }
   ],
   "source": [
    "print(df.isnull())"
   ]
  },
  {
   "cell_type": "markdown",
   "id": "498e9e6f",
   "metadata": {},
   "source": [
    "# notnull()"
   ]
  },
  {
   "cell_type": "code",
   "execution_count": 10,
   "id": "dfd6c1ad",
   "metadata": {},
   "outputs": [
    {
     "name": "stdout",
     "output_type": "stream",
     "text": [
      "a     True\n",
      "b    False\n",
      "c     True\n",
      "d    False\n",
      "e     True\n",
      "f     True\n",
      "g    False\n",
      "h     True\n",
      "Name: one, dtype: bool\n"
     ]
    }
   ],
   "source": [
    "print(df['one'].notnull())"
   ]
  },
  {
   "cell_type": "markdown",
   "id": "6d4e056b",
   "metadata": {},
   "source": [
    "# Calculations with Missing Data\n",
    "1. When summing data, NA will be treated as Zero\n",
    "2. If the data are all NA, then the result will be NA"
   ]
  },
  {
   "cell_type": "code",
   "execution_count": 11,
   "id": "2df36880",
   "metadata": {},
   "outputs": [
    {
     "name": "stdout",
     "output_type": "stream",
     "text": [
      "        one       two     three\n",
      "a -0.411009  0.786305  0.239836\n",
      "b       NaN       NaN       NaN\n",
      "c  0.731215 -0.416475 -0.524687\n",
      "d       NaN       NaN       NaN\n",
      "e -0.627801  0.098994 -0.253618\n",
      "f  0.482198 -0.528665 -0.948030\n",
      "g       NaN       NaN       NaN\n",
      "h -1.202818 -1.738153  0.535426\n"
     ]
    }
   ],
   "source": [
    "import pandas as pd\n",
    "import numpy as np\n",
    "\n",
    "df = pd.DataFrame(np.random.randn(5, 3), index=['a', 'c', 'e', 'f',\n",
    "'h'],columns=['one', 'two', 'three'])\n",
    "\n",
    "df = df.reindex(['a', 'b', 'c', 'd', 'e', 'f', 'g', 'h'])\n",
    "print(df)"
   ]
  },
  {
   "cell_type": "code",
   "execution_count": 12,
   "id": "5cba6ac9",
   "metadata": {},
   "outputs": [
    {
     "data": {
      "text/plain": [
       "a   -0.411009\n",
       "b         NaN\n",
       "c    0.731215\n",
       "d         NaN\n",
       "e   -0.627801\n",
       "f    0.482198\n",
       "g         NaN\n",
       "h   -1.202818\n",
       "Name: one, dtype: float64"
      ]
     },
     "execution_count": 12,
     "metadata": {},
     "output_type": "execute_result"
    }
   ],
   "source": [
    "df['one']"
   ]
  },
  {
   "cell_type": "code",
   "execution_count": 13,
   "id": "5b1c5abe",
   "metadata": {},
   "outputs": [
    {
     "data": {
      "text/plain": [
       "-1.028214822608879"
      ]
     },
     "execution_count": 13,
     "metadata": {},
     "output_type": "execute_result"
    }
   ],
   "source": [
    "df['one'].sum()"
   ]
  },
  {
   "cell_type": "raw",
   "id": "e6ed16a8",
   "metadata": {},
   "source": [
    "Check The Null values here..."
   ]
  },
  {
   "cell_type": "code",
   "execution_count": 14,
   "id": "78b03457",
   "metadata": {},
   "outputs": [
    {
     "name": "stdout",
     "output_type": "stream",
     "text": [
      "   one  two\n",
      "0  NaN  NaN\n",
      "1  NaN  NaN\n",
      "2  NaN  NaN\n",
      "3  NaN  NaN\n",
      "4  NaN  NaN\n",
      "5  NaN  NaN\n"
     ]
    }
   ],
   "source": [
    "import pandas as pd\n",
    "import numpy as np\n",
    "\n",
    "df = pd.DataFrame(index=[0,1,2,3,4,5],columns=['one','two'])\n",
    "print(df)"
   ]
  },
  {
   "cell_type": "code",
   "execution_count": 15,
   "id": "468241fc",
   "metadata": {},
   "outputs": [
    {
     "data": {
      "text/plain": [
       "0"
      ]
     },
     "execution_count": 15,
     "metadata": {},
     "output_type": "execute_result"
    }
   ],
   "source": [
    "df['one'].sum()"
   ]
  },
  {
   "cell_type": "markdown",
   "id": "b70aa8bd",
   "metadata": {},
   "source": [
    "# Cleaning / Filling Missing Data\n",
    "Pandas provides various methods for cleaning the missing values. The fillna function can “fill in” NA values with non-null data in a couple of ways, which we have illustrated in the following sections.\n",
    "\n"
   ]
  },
  {
   "cell_type": "markdown",
   "id": "4ca2ec85",
   "metadata": {},
   "source": [
    "# Replace NaN with a Scalar Value\n",
    "The following program shows how you can replace \"NaN\" with \"0\"."
   ]
  },
  {
   "cell_type": "code",
   "execution_count": 16,
   "id": "53d01824",
   "metadata": {},
   "outputs": [
    {
     "name": "stdout",
     "output_type": "stream",
     "text": [
      "        one       two     three\n",
      "a -0.113591  1.281805  0.805537\n",
      "b       NaN       NaN       NaN\n",
      "c  0.018031  0.246045  0.962549\n"
     ]
    }
   ],
   "source": [
    "import pandas as pd\n",
    "import numpy as np\n",
    "\n",
    "df = pd.DataFrame(np.random.randn(3, 3), index=['a', 'c', 'e'],columns=['one',\n",
    "'two', 'three'])\n",
    "\n",
    "df = df.reindex(['a', 'b', 'c'])\n",
    "print(df)"
   ]
  },
  {
   "cell_type": "code",
   "execution_count": 18,
   "id": "1a637c9e",
   "metadata": {},
   "outputs": [
    {
     "data": {
      "text/html": [
       "<div>\n",
       "<style scoped>\n",
       "    .dataframe tbody tr th:only-of-type {\n",
       "        vertical-align: middle;\n",
       "    }\n",
       "\n",
       "    .dataframe tbody tr th {\n",
       "        vertical-align: top;\n",
       "    }\n",
       "\n",
       "    .dataframe thead th {\n",
       "        text-align: right;\n",
       "    }\n",
       "</style>\n",
       "<table border=\"1\" class=\"dataframe\">\n",
       "  <thead>\n",
       "    <tr style=\"text-align: right;\">\n",
       "      <th></th>\n",
       "      <th>one</th>\n",
       "      <th>two</th>\n",
       "      <th>three</th>\n",
       "    </tr>\n",
       "  </thead>\n",
       "  <tbody>\n",
       "    <tr>\n",
       "      <th>a</th>\n",
       "      <td>False</td>\n",
       "      <td>False</td>\n",
       "      <td>False</td>\n",
       "    </tr>\n",
       "    <tr>\n",
       "      <th>b</th>\n",
       "      <td>True</td>\n",
       "      <td>True</td>\n",
       "      <td>True</td>\n",
       "    </tr>\n",
       "    <tr>\n",
       "      <th>c</th>\n",
       "      <td>False</td>\n",
       "      <td>False</td>\n",
       "      <td>False</td>\n",
       "    </tr>\n",
       "  </tbody>\n",
       "</table>\n",
       "</div>"
      ],
      "text/plain": [
       "     one    two  three\n",
       "a  False  False  False\n",
       "b   True   True   True\n",
       "c  False  False  False"
      ]
     },
     "execution_count": 18,
     "metadata": {},
     "output_type": "execute_result"
    }
   ],
   "source": [
    "df.isnull()"
   ]
  },
  {
   "cell_type": "code",
   "execution_count": null,
   "id": "121756fb",
   "metadata": {},
   "outputs": [],
   "source": []
  },
  {
   "cell_type": "code",
   "execution_count": 19,
   "id": "717414f0",
   "metadata": {},
   "outputs": [
    {
     "name": "stdout",
     "output_type": "stream",
     "text": [
      "NaN replaced with '0':\n",
      "        one       two     three\n",
      "a -0.113591  1.281805  0.805537\n",
      "b  1.000000  1.000000  1.000000\n",
      "c  0.018031  0.246045  0.962549\n"
     ]
    }
   ],
   "source": [
    "print (\"NaN replaced with '0':\") # Or With Any scalar NUmber 1,2,3,4,5...\n",
    "print(df.fillna(1))"
   ]
  },
  {
   "cell_type": "code",
   "execution_count": null,
   "id": "f41155c0",
   "metadata": {},
   "outputs": [],
   "source": []
  },
  {
   "cell_type": "markdown",
   "id": "b1cf1301",
   "metadata": {},
   "source": [
    "# Drop Missing Values\n",
    "If you want to simply exclude the missing values, then use the dropna function along with the axis argument. By default, `axis=0,` i.e., along row, which means that if any value within a row is NA then the whole row is excluded.\n",
    "\n",
    "Example 1"
   ]
  },
  {
   "cell_type": "code",
   "execution_count": 20,
   "id": "3a23f6a2",
   "metadata": {},
   "outputs": [
    {
     "name": "stdout",
     "output_type": "stream",
     "text": [
      "        one       two     three\n",
      "a  1.486598 -0.909122  1.565437\n",
      "b       NaN       NaN       NaN\n",
      "c  0.048292  0.221612  0.843495\n",
      "d       NaN       NaN       NaN\n",
      "e  0.921008 -1.383190  0.490596\n",
      "f  0.743450 -1.081211 -1.197850\n",
      "g       NaN       NaN       NaN\n",
      "h -0.826556  0.053789 -0.075866\n"
     ]
    }
   ],
   "source": [
    "import pandas as pd\n",
    "import numpy as np\n",
    "\n",
    "df = pd.DataFrame(np.random.randn(5, 3), index=['a', 'c', 'e', 'f',\n",
    "'h'],columns=['one', 'two', 'three'])\n",
    "\n",
    "df = df.reindex(['a', 'b', 'c', 'd', 'e', 'f', 'g', 'h'])\n",
    "print(df)"
   ]
  },
  {
   "cell_type": "raw",
   "id": "d1c8c474",
   "metadata": {},
   "source": [
    "Droping the NAN Values With df.dropna()"
   ]
  },
  {
   "cell_type": "code",
   "execution_count": 21,
   "id": "772fc74d",
   "metadata": {},
   "outputs": [
    {
     "name": "stdout",
     "output_type": "stream",
     "text": [
      "        one       two     three\n",
      "a  1.486598 -0.909122  1.565437\n",
      "c  0.048292  0.221612  0.843495\n",
      "e  0.921008 -1.383190  0.490596\n",
      "f  0.743450 -1.081211 -1.197850\n",
      "h -0.826556  0.053789 -0.075866\n"
     ]
    }
   ],
   "source": [
    "df1 = df.dropna()\n",
    "print(df1)"
   ]
  },
  {
   "cell_type": "markdown",
   "id": "ee46a3b4",
   "metadata": {},
   "source": [
    "# df.dropna(axis=1)"
   ]
  },
  {
   "cell_type": "code",
   "execution_count": 22,
   "id": "bb8bb693",
   "metadata": {},
   "outputs": [
    {
     "name": "stdout",
     "output_type": "stream",
     "text": [
      "Empty DataFrame\n",
      "Columns: []\n",
      "Index: [a, b, c, d, e, f, g, h]\n"
     ]
    }
   ],
   "source": [
    "print(df.dropna(axis=1))"
   ]
  },
  {
   "cell_type": "code",
   "execution_count": null,
   "id": "74407bc8",
   "metadata": {},
   "outputs": [],
   "source": []
  }
 ],
 "metadata": {
  "kernelspec": {
   "display_name": "Python 3 (ipykernel)",
   "language": "python",
   "name": "python3"
  },
  "language_info": {
   "codemirror_mode": {
    "name": "ipython",
    "version": 3
   },
   "file_extension": ".py",
   "mimetype": "text/x-python",
   "name": "python",
   "nbconvert_exporter": "python",
   "pygments_lexer": "ipython3",
   "version": "3.8.13"
  }
 },
 "nbformat": 4,
 "nbformat_minor": 5
}
