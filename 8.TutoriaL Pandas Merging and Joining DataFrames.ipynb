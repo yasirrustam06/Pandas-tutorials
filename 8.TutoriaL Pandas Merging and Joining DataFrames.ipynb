{
 "cells": [
  {
   "cell_type": "markdown",
   "id": "3d39c7cb",
   "metadata": {},
   "source": [
    "# Python Pandas - Merging/Joining\n"
   ]
  },
  {
   "cell_type": "markdown",
   "id": "3139562d",
   "metadata": {},
   "source": [
    "![title](m.png)"
   ]
  },
  {
   "cell_type": "code",
   "execution_count": 1,
   "id": "b003594a",
   "metadata": {},
   "outputs": [
    {
     "name": "stdout",
     "output_type": "stream",
     "text": [
      "   id    Name subject_id\n",
      "0   1    Alex       sub1\n",
      "1   2     Amy       sub2\n",
      "2   3   Allen       sub4\n",
      "3   4   Alice       sub6\n",
      "4   5  Ayoung       sub5\n"
     ]
    }
   ],
   "source": [
    "\n",
    "import pandas as pd\n",
    "\n",
    "left = pd.DataFrame({\n",
    "   'id':[1,2,3,4,5],\n",
    "   'Name': ['Alex', 'Amy', 'Allen', 'Alice', 'Ayoung'],\n",
    "   'subject_id':['sub1','sub2','sub4','sub6','sub5']})\n",
    "\n",
    "\n",
    "print(left)"
   ]
  },
  {
   "cell_type": "code",
   "execution_count": 2,
   "id": "e61a53a8",
   "metadata": {},
   "outputs": [
    {
     "name": "stdout",
     "output_type": "stream",
     "text": [
      "   id   Name subject_id\n",
      "0   1  Billy       sub2\n",
      "1   2  Brian       sub4\n",
      "2   3   Bran       sub3\n",
      "3   4  Bryce       sub6\n",
      "4   5  Betty       sub5\n"
     ]
    }
   ],
   "source": [
    "right = pd.DataFrame(\n",
    "   {'id':[1,2,3,4,5],\n",
    "   'Name': ['Billy', 'Brian', 'Bran', 'Bryce', 'Betty'],\n",
    "   'subject_id':['sub2','sub4','sub3','sub6','sub5']})\n",
    "print(right)"
   ]
  },
  {
   "cell_type": "markdown",
   "id": "eb002349",
   "metadata": {},
   "source": [
    "# Merge Two DataFrames on a Key\n"
   ]
  },
  {
   "cell_type": "code",
   "execution_count": 3,
   "id": "ddcd3f6e",
   "metadata": {},
   "outputs": [
    {
     "name": "stdout",
     "output_type": "stream",
     "text": [
      "   id  Name_x subject_id_x Name_y subject_id_y\n",
      "0   1    Alex         sub1  Billy         sub2\n",
      "1   2     Amy         sub2  Brian         sub4\n",
      "2   3   Allen         sub4   Bran         sub3\n",
      "3   4   Alice         sub6  Bryce         sub6\n",
      "4   5  Ayoung         sub5  Betty         sub5\n"
     ]
    }
   ],
   "source": [
    "Merged_DataFrame = pd.merge(left,right,on='id')\n",
    "print(Merged_DataFrame)"
   ]
  },
  {
   "cell_type": "markdown",
   "id": "429695af",
   "metadata": {},
   "source": [
    "# Merge Two DataFrames on Multiple Keys\n"
   ]
  },
  {
   "cell_type": "code",
   "execution_count": 5,
   "id": "a4f2282e",
   "metadata": {},
   "outputs": [
    {
     "name": "stdout",
     "output_type": "stream",
     "text": [
      "   id  Name_x subject_id Name_y\n",
      "0   4   Alice       sub6  Bryce\n",
      "1   5  Ayoung       sub5  Betty\n"
     ]
    }
   ],
   "source": [
    "print(pd.merge(left,right,on=['id','subject_id']))\n"
   ]
  },
  {
   "cell_type": "markdown",
   "id": "ba3fb5fb",
   "metadata": {},
   "source": [
    "# Merge Using 'how' Argument\n"
   ]
  },
  {
   "cell_type": "markdown",
   "id": "99d24be8",
   "metadata": {},
   "source": [
    "#### Left Join\n"
   ]
  },
  {
   "cell_type": "code",
   "execution_count": 6,
   "id": "7dd7409c",
   "metadata": {},
   "outputs": [
    {
     "name": "stdout",
     "output_type": "stream",
     "text": [
      "   id_x  Name_x subject_id  id_y Name_y\n",
      "0     1    Alex       sub1   NaN    NaN\n",
      "1     2     Amy       sub2   1.0  Billy\n",
      "2     3   Allen       sub4   2.0  Brian\n",
      "3     4   Alice       sub6   4.0  Bryce\n",
      "4     5  Ayoung       sub5   5.0  Betty\n"
     ]
    }
   ],
   "source": [
    "print(pd.merge(left, right, on='subject_id', how='left'))\n"
   ]
  },
  {
   "cell_type": "markdown",
   "id": "867605bf",
   "metadata": {},
   "source": [
    "#### Right Join\n"
   ]
  },
  {
   "cell_type": "code",
   "execution_count": 7,
   "id": "8fcaed6e",
   "metadata": {},
   "outputs": [
    {
     "name": "stdout",
     "output_type": "stream",
     "text": [
      "   id_x  Name_x subject_id  id_y Name_y\n",
      "0   2.0     Amy       sub2     1  Billy\n",
      "1   3.0   Allen       sub4     2  Brian\n",
      "2   NaN     NaN       sub3     3   Bran\n",
      "3   4.0   Alice       sub6     4  Bryce\n",
      "4   5.0  Ayoung       sub5     5  Betty\n"
     ]
    }
   ],
   "source": [
    "print(pd.merge(left, right, on='subject_id', how='right'))\n"
   ]
  },
  {
   "cell_type": "markdown",
   "id": "d3c2ff25",
   "metadata": {},
   "source": [
    "#### Outer Join\n"
   ]
  },
  {
   "cell_type": "code",
   "execution_count": 8,
   "id": "c6290df6",
   "metadata": {},
   "outputs": [
    {
     "name": "stdout",
     "output_type": "stream",
     "text": [
      "   id_x  Name_x subject_id  id_y Name_y\n",
      "0   1.0    Alex       sub1   NaN    NaN\n",
      "1   2.0     Amy       sub2   1.0  Billy\n",
      "2   3.0   Allen       sub4   2.0  Brian\n",
      "3   4.0   Alice       sub6   4.0  Bryce\n",
      "4   5.0  Ayoung       sub5   5.0  Betty\n",
      "5   NaN     NaN       sub3   3.0   Bran\n"
     ]
    }
   ],
   "source": [
    "print(pd.merge(left, right, how='outer', on='subject_id'))\n"
   ]
  },
  {
   "cell_type": "code",
   "execution_count": null,
   "id": "da3447d8",
   "metadata": {},
   "outputs": [],
   "source": []
  }
 ],
 "metadata": {
  "kernelspec": {
   "display_name": "Python 3 (ipykernel)",
   "language": "python",
   "name": "python3"
  },
  "language_info": {
   "codemirror_mode": {
    "name": "ipython",
    "version": 3
   },
   "file_extension": ".py",
   "mimetype": "text/x-python",
   "name": "python",
   "nbconvert_exporter": "python",
   "pygments_lexer": "ipython3",
   "version": "3.8.13"
  }
 },
 "nbformat": 4,
 "nbformat_minor": 5
}
